{
 "cells": [
  {
   "cell_type": "code",
   "execution_count": 1,
   "metadata": {},
   "outputs": [],
   "source": [
    "# id – unique observation identifier\n",
    "# age – age group of the person with the following levels: 18-24, 25-34, 35-44, 45-54, 55-64, 65+\n",
    "# gender – gender of the person with the following levels: female, male\n",
    "# education – education level of the person with the following levels: Left school before 16 years, Left school at 16 years, Left school at 17 years, Left school at 18 years, Some college or university, no certificate or degree, Professional certificate/ diploma, University degree, Masters degree, Doctorate degree\n",
    "# country – country of current residence of the person with the following levels: Australia, Canada, New Zealand, Ireland, UK, USA, Other\n",
    "# ethnicity – ethnicity of the person with the following levels: Asian, Black, Mixed-Black/Asian, Mixed-White/Asian, Mixed-White/Black, White, Other\n",
    "# personality_neuroticism – assessment of neuroticism of the person based on psychological tests (0-100)\n",
    "# personality_extraversion – assessment of extraversion of the person based on psychological tests (0-100)\n",
    "# personality_openness – assessment of openness to experience of the person based on psychological tests (0-100)\n",
    "# personality_agreeableness – assessment of agreeableness of the person based on psychological tests (0-100)\n",
    "# personality_conscientiousness – assessment of conscientiousness of the person based on psychological tests (0-100)\n",
    "# personality_impulsiveness – assessment of impulsiveness of the person based on psychological tests (0-100)\n",
    "# personality_sensation – assessment of sensation of the person based on psychological tests (0-100)\n",
    "# consumption_alcohol – declared consumption of alcohol with the following levels: never used, used over a decade ago, used in last decade, used in last year, used in last month, used in last week, used in last day\n",
    "# consumption_amphetamines – declared consumption of amphetamines with the following levels: never used, used over a decade ago, used in last decade, used in last year, used in last month, used in last week, used in last day\n",
    "# consumption_caffeine – declared consumption of caffeine with the following levels: never used, used over a decade ago, used in last decade, used in last year, used in last month, used in last week, used in last day\n",
    "# consumption_cannabis – declared consumption of cannabis with the following levels: never used, used over a decade ago, used in last decade, used in last year, used in last month, used in last week, used in last day\n",
    "# consumption_chocolate – declared consumption of chocolate with the following levels: never used, used over a decade ago, used in last decade, used in last year, used in last month, used in last week, used in last day\n",
    "# consumption_mushrooms – declared consumption of magic mushrooms with the following levels: never used, used over a decade ago, used in last decade, used in last year, used in last month, used in last week, used in last day\n",
    "# consumption_nicotine – declared consumption of nicotine with the following levels: never used, used over a decade ago, used in last decade, used in last year, used in last month, used in last week, used in last day\n",
    "# consumption_cocaine_last_month – declared consumption of cocaine in the last month with the following levels: No, Yes (outcome variable, only in the training sample)"
   ]
  },
  {
   "cell_type": "code",
   "execution_count": 2,
   "metadata": {},
   "outputs": [
    {
     "name": "stderr",
     "output_type": "stream",
     "text": [
      "/Users/arda.kaya/.pyenv/versions/3.9.4/lib/python3.9/site-packages/tensorflow/python/framework/dtypes.py:519: FutureWarning: Passing (type, 1) or '1type' as a synonym of type is deprecated; in a future version of numpy, it will be understood as (type, (1,)) / '(1,)type'.\n",
      "  _np_qint8 = np.dtype([(\"qint8\", np.int8, 1)])\n",
      "/Users/arda.kaya/.pyenv/versions/3.9.4/lib/python3.9/site-packages/tensorflow/python/framework/dtypes.py:520: FutureWarning: Passing (type, 1) or '1type' as a synonym of type is deprecated; in a future version of numpy, it will be understood as (type, (1,)) / '(1,)type'.\n",
      "  _np_quint8 = np.dtype([(\"quint8\", np.uint8, 1)])\n",
      "/Users/arda.kaya/.pyenv/versions/3.9.4/lib/python3.9/site-packages/tensorflow/python/framework/dtypes.py:521: FutureWarning: Passing (type, 1) or '1type' as a synonym of type is deprecated; in a future version of numpy, it will be understood as (type, (1,)) / '(1,)type'.\n",
      "  _np_qint16 = np.dtype([(\"qint16\", np.int16, 1)])\n",
      "/Users/arda.kaya/.pyenv/versions/3.9.4/lib/python3.9/site-packages/tensorflow/python/framework/dtypes.py:522: FutureWarning: Passing (type, 1) or '1type' as a synonym of type is deprecated; in a future version of numpy, it will be understood as (type, (1,)) / '(1,)type'.\n",
      "  _np_quint16 = np.dtype([(\"quint16\", np.uint16, 1)])\n",
      "/Users/arda.kaya/.pyenv/versions/3.9.4/lib/python3.9/site-packages/tensorflow/python/framework/dtypes.py:523: FutureWarning: Passing (type, 1) or '1type' as a synonym of type is deprecated; in a future version of numpy, it will be understood as (type, (1,)) / '(1,)type'.\n",
      "  _np_qint32 = np.dtype([(\"qint32\", np.int32, 1)])\n",
      "/Users/arda.kaya/.pyenv/versions/3.9.4/lib/python3.9/site-packages/tensorflow/python/framework/dtypes.py:528: FutureWarning: Passing (type, 1) or '1type' as a synonym of type is deprecated; in a future version of numpy, it will be understood as (type, (1,)) / '(1,)type'.\n",
      "  np_resource = np.dtype([(\"resource\", np.ubyte, 1)])\n",
      "<frozen importlib._bootstrap>:228: RuntimeWarning: compiletime version 3.6 of module 'tensorflow.python.framework.fast_tensor_util' does not match runtime version 3.9\n",
      "<frozen importlib._bootstrap>:228: RuntimeWarning: builtins.type size changed, may indicate binary incompatibility. Expected 880, got 864\n"
     ]
    }
   ],
   "source": [
    "# Let's import the necessary libraries\n",
    "import json\n",
    "import pandas as pd\n",
    "import numpy as np\n",
    "from sklearn.model_selection import train_test_split\n",
    "from sklearn import preprocessing\n",
    "from sklearn.model_selection import train_test_split, GridSearchCV, cross_val_score, StratifiedKFold, learning_curve\n",
    "from sklearn.svm import SVC\n",
    "from sklearn.tree import DecisionTreeClassifier\n",
    "from sklearn.ensemble import BaggingClassifier\n",
    "from sklearn.ensemble import AdaBoostClassifier, GradientBoostingClassifier\n",
    "from sklearn.ensemble import RandomForestClassifier\n",
    "from sklearn.metrics import classification_report, confusion_matrix, roc_curve, roc_auc_score, balanced_accuracy_score\n",
    "from sklearn import tree\n",
    "import imblearn\n",
    "from os import system\n",
    "from IPython.display import Image \n",
    "import graphviz\n",
    "import pydot\n",
    "import matplotlib.pyplot as plt\n",
    "import seaborn as sns\n",
    "import warnings\n",
    "warnings.filterwarnings('ignore')\n"
   ]
  },
  {
   "cell_type": "code",
   "execution_count": 3,
   "metadata": {},
   "outputs": [],
   "source": [
    "# We need \"consumption_cocaine_last_month\" column in test module to compare our predictions based on training results, however we do not have it in the test module. \n",
    "# In this case, we can use drugs_test.csv file as \"validation set\" to compare our predictions based on training results since we do not need a result column for validations.\n",
    "# However we need to split our drugs_train.csv file into training and test sets later.\n",
    "\n",
    "# The purpose of the test set is to test the training. If you don't have those data labeled in the same form as the training data, then it's not a test set - Source: Stack Overflow\n",
    "\n",
    "validation = pd.read_csv('drugs_test.csv')\n",
    "data = pd.read_csv('drugs_train.csv')\n",
    "\n",
    "\n"
   ]
  },
  {
   "cell_type": "code",
   "execution_count": 4,
   "metadata": {},
   "outputs": [
    {
     "data": {
      "text/plain": [
       "(1500, 21)"
      ]
     },
     "execution_count": 4,
     "metadata": {},
     "output_type": "execute_result"
    }
   ],
   "source": [
    "data.shape"
   ]
  },
  {
   "cell_type": "code",
   "execution_count": 5,
   "metadata": {},
   "outputs": [
    {
     "data": {
      "text/html": [
       "<div>\n",
       "<style scoped>\n",
       "    .dataframe tbody tr th:only-of-type {\n",
       "        vertical-align: middle;\n",
       "    }\n",
       "\n",
       "    .dataframe tbody tr th {\n",
       "        vertical-align: top;\n",
       "    }\n",
       "\n",
       "    .dataframe thead th {\n",
       "        text-align: right;\n",
       "    }\n",
       "</style>\n",
       "<table border=\"1\" class=\"dataframe\">\n",
       "  <thead>\n",
       "    <tr style=\"text-align: right;\">\n",
       "      <th></th>\n",
       "      <th>id</th>\n",
       "      <th>age</th>\n",
       "      <th>gender</th>\n",
       "      <th>education</th>\n",
       "      <th>country</th>\n",
       "      <th>ethnicity</th>\n",
       "      <th>personality_neuroticism</th>\n",
       "      <th>personality_extraversion</th>\n",
       "      <th>personality_openness</th>\n",
       "      <th>personality_agreeableness</th>\n",
       "      <th>...</th>\n",
       "      <th>personality_impulsiveness</th>\n",
       "      <th>personality_sensation</th>\n",
       "      <th>consumption_alcohol</th>\n",
       "      <th>consumption_amphetamines</th>\n",
       "      <th>consumption_caffeine</th>\n",
       "      <th>consumption_cannabis</th>\n",
       "      <th>consumption_chocolate</th>\n",
       "      <th>consumption_mushrooms</th>\n",
       "      <th>consumption_nicotine</th>\n",
       "      <th>consumption_cocaine_last_month</th>\n",
       "    </tr>\n",
       "  </thead>\n",
       "  <tbody>\n",
       "    <tr>\n",
       "      <th>0</th>\n",
       "      <td>train_0001</td>\n",
       "      <td>45-54</td>\n",
       "      <td>male</td>\n",
       "      <td>Masters degree</td>\n",
       "      <td>USA</td>\n",
       "      <td>Mixed-Black/Asian</td>\n",
       "      <td>57.6</td>\n",
       "      <td>57.3</td>\n",
       "      <td>50.1</td>\n",
       "      <td>47.8</td>\n",
       "      <td>...</td>\n",
       "      <td>42.8</td>\n",
       "      <td>22.4</td>\n",
       "      <td>used in last week</td>\n",
       "      <td>used over a decade ago</td>\n",
       "      <td>used in last day</td>\n",
       "      <td>used in last week</td>\n",
       "      <td>used in last day</td>\n",
       "      <td>never used</td>\n",
       "      <td>used in last week</td>\n",
       "      <td>No</td>\n",
       "    </tr>\n",
       "    <tr>\n",
       "      <th>1</th>\n",
       "      <td>train_0002</td>\n",
       "      <td>25-34</td>\n",
       "      <td>male</td>\n",
       "      <td>University degree</td>\n",
       "      <td>USA</td>\n",
       "      <td>Mixed-Black/Asian</td>\n",
       "      <td>47.8</td>\n",
       "      <td>67.0</td>\n",
       "      <td>45.7</td>\n",
       "      <td>47.8</td>\n",
       "      <td>...</td>\n",
       "      <td>33.8</td>\n",
       "      <td>30.8</td>\n",
       "      <td>used in last week</td>\n",
       "      <td>never used</td>\n",
       "      <td>used in last week</td>\n",
       "      <td>never used</td>\n",
       "      <td>used in last day</td>\n",
       "      <td>never used</td>\n",
       "      <td>never used</td>\n",
       "      <td>No</td>\n",
       "    </tr>\n",
       "    <tr>\n",
       "      <th>2</th>\n",
       "      <td>train_0003</td>\n",
       "      <td>18-24</td>\n",
       "      <td>female</td>\n",
       "      <td>University degree</td>\n",
       "      <td>USA</td>\n",
       "      <td>Mixed-Black/Asian</td>\n",
       "      <td>57.6</td>\n",
       "      <td>43.3</td>\n",
       "      <td>55.3</td>\n",
       "      <td>45.6</td>\n",
       "      <td>...</td>\n",
       "      <td>63.0</td>\n",
       "      <td>62.0</td>\n",
       "      <td>used in last month</td>\n",
       "      <td>never used</td>\n",
       "      <td>used in last day</td>\n",
       "      <td>used in last week</td>\n",
       "      <td>used in last week</td>\n",
       "      <td>used in last year</td>\n",
       "      <td>used in last month</td>\n",
       "      <td>No</td>\n",
       "    </tr>\n",
       "    <tr>\n",
       "      <th>3</th>\n",
       "      <td>train_0004</td>\n",
       "      <td>25-34</td>\n",
       "      <td>female</td>\n",
       "      <td>Masters degree</td>\n",
       "      <td>USA</td>\n",
       "      <td>Mixed-Black/Asian</td>\n",
       "      <td>71.8</td>\n",
       "      <td>31.2</td>\n",
       "      <td>43.6</td>\n",
       "      <td>56.3</td>\n",
       "      <td>...</td>\n",
       "      <td>63.0</td>\n",
       "      <td>71.1</td>\n",
       "      <td>used in last day</td>\n",
       "      <td>never used</td>\n",
       "      <td>used in last day</td>\n",
       "      <td>used in last decade</td>\n",
       "      <td>used in last day</td>\n",
       "      <td>never used</td>\n",
       "      <td>used in last decade</td>\n",
       "      <td>No</td>\n",
       "    </tr>\n",
       "    <tr>\n",
       "      <th>4</th>\n",
       "      <td>train_0005</td>\n",
       "      <td>18-24</td>\n",
       "      <td>male</td>\n",
       "      <td>Some college or university, no certificate or ...</td>\n",
       "      <td>Australia</td>\n",
       "      <td>Mixed-Black/Asian</td>\n",
       "      <td>56.1</td>\n",
       "      <td>62.3</td>\n",
       "      <td>70.2</td>\n",
       "      <td>66.1</td>\n",
       "      <td>...</td>\n",
       "      <td>50.4</td>\n",
       "      <td>62.0</td>\n",
       "      <td>used in last week</td>\n",
       "      <td>never used</td>\n",
       "      <td>used in last month</td>\n",
       "      <td>used in last month</td>\n",
       "      <td>used in last day</td>\n",
       "      <td>used in last year</td>\n",
       "      <td>used in last month</td>\n",
       "      <td>No</td>\n",
       "    </tr>\n",
       "  </tbody>\n",
       "</table>\n",
       "<p>5 rows × 21 columns</p>\n",
       "</div>"
      ],
      "text/plain": [
       "           id    age  gender  \\\n",
       "0  train_0001  45-54    male   \n",
       "1  train_0002  25-34    male   \n",
       "2  train_0003  18-24  female   \n",
       "3  train_0004  25-34  female   \n",
       "4  train_0005  18-24    male   \n",
       "\n",
       "                                           education    country  \\\n",
       "0                                     Masters degree        USA   \n",
       "1                                  University degree        USA   \n",
       "2                                  University degree        USA   \n",
       "3                                     Masters degree        USA   \n",
       "4  Some college or university, no certificate or ...  Australia   \n",
       "\n",
       "           ethnicity  personality_neuroticism  personality_extraversion  \\\n",
       "0  Mixed-Black/Asian                     57.6                      57.3   \n",
       "1  Mixed-Black/Asian                     47.8                      67.0   \n",
       "2  Mixed-Black/Asian                     57.6                      43.3   \n",
       "3  Mixed-Black/Asian                     71.8                      31.2   \n",
       "4  Mixed-Black/Asian                     56.1                      62.3   \n",
       "\n",
       "   personality_openness  personality_agreeableness  ...  \\\n",
       "0                  50.1                       47.8  ...   \n",
       "1                  45.7                       47.8  ...   \n",
       "2                  55.3                       45.6  ...   \n",
       "3                  43.6                       56.3  ...   \n",
       "4                  70.2                       66.1  ...   \n",
       "\n",
       "   personality_impulsiveness  personality_sensation  consumption_alcohol  \\\n",
       "0                       42.8                   22.4    used in last week   \n",
       "1                       33.8                   30.8    used in last week   \n",
       "2                       63.0                   62.0   used in last month   \n",
       "3                       63.0                   71.1     used in last day   \n",
       "4                       50.4                   62.0    used in last week   \n",
       "\n",
       "  consumption_amphetamines consumption_caffeine consumption_cannabis  \\\n",
       "0   used over a decade ago     used in last day    used in last week   \n",
       "1               never used    used in last week           never used   \n",
       "2               never used     used in last day    used in last week   \n",
       "3               never used     used in last day  used in last decade   \n",
       "4               never used   used in last month   used in last month   \n",
       "\n",
       "  consumption_chocolate consumption_mushrooms consumption_nicotine  \\\n",
       "0      used in last day            never used    used in last week   \n",
       "1      used in last day            never used           never used   \n",
       "2     used in last week     used in last year   used in last month   \n",
       "3      used in last day            never used  used in last decade   \n",
       "4      used in last day     used in last year   used in last month   \n",
       "\n",
       "  consumption_cocaine_last_month  \n",
       "0                             No  \n",
       "1                             No  \n",
       "2                             No  \n",
       "3                             No  \n",
       "4                             No  \n",
       "\n",
       "[5 rows x 21 columns]"
      ]
     },
     "execution_count": 5,
     "metadata": {},
     "output_type": "execute_result"
    }
   ],
   "source": [
    "data.head()"
   ]
  },
  {
   "cell_type": "code",
   "execution_count": 6,
   "metadata": {},
   "outputs": [
    {
     "name": "stdout",
     "output_type": "stream",
     "text": [
      "<class 'pandas.core.frame.DataFrame'>\n",
      "RangeIndex: 1500 entries, 0 to 1499\n",
      "Data columns (total 21 columns):\n",
      " #   Column                          Non-Null Count  Dtype  \n",
      "---  ------                          --------------  -----  \n",
      " 0   id                              1500 non-null   object \n",
      " 1   age                             1500 non-null   object \n",
      " 2   gender                          1500 non-null   object \n",
      " 3   education                       1500 non-null   object \n",
      " 4   country                         1500 non-null   object \n",
      " 5   ethnicity                       1500 non-null   object \n",
      " 6   personality_neuroticism         1500 non-null   float64\n",
      " 7   personality_extraversion        1500 non-null   float64\n",
      " 8   personality_openness            1500 non-null   float64\n",
      " 9   personality_agreeableness       1500 non-null   float64\n",
      " 10  personality_conscientiousness   1500 non-null   float64\n",
      " 11  personality_impulsiveness       1500 non-null   float64\n",
      " 12  personality_sensation           1500 non-null   float64\n",
      " 13  consumption_alcohol             1500 non-null   object \n",
      " 14  consumption_amphetamines        1500 non-null   object \n",
      " 15  consumption_caffeine            1500 non-null   object \n",
      " 16  consumption_cannabis            1500 non-null   object \n",
      " 17  consumption_chocolate           1500 non-null   object \n",
      " 18  consumption_mushrooms           1500 non-null   object \n",
      " 19  consumption_nicotine            1500 non-null   object \n",
      " 20  consumption_cocaine_last_month  1500 non-null   object \n",
      "dtypes: float64(7), object(14)\n",
      "memory usage: 246.2+ KB\n"
     ]
    }
   ],
   "source": [
    "data.info()\n",
    "# Our data has 1500 rows and 20 columns. Data types are object, int64 and float64. There are no missing values.\n",
    "# We need to convert object data types to categorical data types and convert categorical data types to numerical data types."
   ]
  },
  {
   "cell_type": "code",
   "execution_count": 7,
   "metadata": {},
   "outputs": [],
   "source": [
    "# Drop the \"id\" column since it is not needed for our analysis\n",
    "data.drop(['id'], axis=1, inplace=True)\n",
    "validation.drop(['id'], axis=1, inplace=True)"
   ]
  },
  {
   "cell_type": "code",
   "execution_count": 8,
   "metadata": {},
   "outputs": [
    {
     "data": {
      "text/html": [
       "<div>\n",
       "<style scoped>\n",
       "    .dataframe tbody tr th:only-of-type {\n",
       "        vertical-align: middle;\n",
       "    }\n",
       "\n",
       "    .dataframe tbody tr th {\n",
       "        vertical-align: top;\n",
       "    }\n",
       "\n",
       "    .dataframe thead th {\n",
       "        text-align: right;\n",
       "    }\n",
       "</style>\n",
       "<table border=\"1\" class=\"dataframe\">\n",
       "  <thead>\n",
       "    <tr style=\"text-align: right;\">\n",
       "      <th></th>\n",
       "      <th>age</th>\n",
       "      <th>gender</th>\n",
       "      <th>education</th>\n",
       "      <th>country</th>\n",
       "      <th>ethnicity</th>\n",
       "      <th>personality_neuroticism</th>\n",
       "      <th>personality_extraversion</th>\n",
       "      <th>personality_openness</th>\n",
       "      <th>personality_agreeableness</th>\n",
       "      <th>personality_conscientiousness</th>\n",
       "      <th>personality_impulsiveness</th>\n",
       "      <th>personality_sensation</th>\n",
       "      <th>consumption_alcohol</th>\n",
       "      <th>consumption_amphetamines</th>\n",
       "      <th>consumption_caffeine</th>\n",
       "      <th>consumption_cannabis</th>\n",
       "      <th>consumption_chocolate</th>\n",
       "      <th>consumption_mushrooms</th>\n",
       "      <th>consumption_nicotine</th>\n",
       "      <th>consumption_cocaine_last_month</th>\n",
       "    </tr>\n",
       "  </thead>\n",
       "  <tbody>\n",
       "    <tr>\n",
       "      <th>0</th>\n",
       "      <td>45-54</td>\n",
       "      <td>male</td>\n",
       "      <td>Masters degree</td>\n",
       "      <td>USA</td>\n",
       "      <td>Mixed-Black/Asian</td>\n",
       "      <td>0.060927</td>\n",
       "      <td>0.072463</td>\n",
       "      <td>-0.030087</td>\n",
       "      <td>-0.02166</td>\n",
       "      <td>0.037012</td>\n",
       "      <td>-0.041722</td>\n",
       "      <td>-0.299163</td>\n",
       "      <td>used in last week</td>\n",
       "      <td>used over a decade ago</td>\n",
       "      <td>used in last day</td>\n",
       "      <td>used in last week</td>\n",
       "      <td>used in last day</td>\n",
       "      <td>never used</td>\n",
       "      <td>used in last week</td>\n",
       "      <td>No</td>\n",
       "    </tr>\n",
       "    <tr>\n",
       "      <th>1</th>\n",
       "      <td>25-34</td>\n",
       "      <td>male</td>\n",
       "      <td>University degree</td>\n",
       "      <td>USA</td>\n",
       "      <td>Mixed-Black/Asian</td>\n",
       "      <td>-0.037073</td>\n",
       "      <td>0.169463</td>\n",
       "      <td>-0.074087</td>\n",
       "      <td>-0.02166</td>\n",
       "      <td>0.060012</td>\n",
       "      <td>-0.131722</td>\n",
       "      <td>-0.215163</td>\n",
       "      <td>used in last week</td>\n",
       "      <td>never used</td>\n",
       "      <td>used in last week</td>\n",
       "      <td>never used</td>\n",
       "      <td>used in last day</td>\n",
       "      <td>never used</td>\n",
       "      <td>never used</td>\n",
       "      <td>No</td>\n",
       "    </tr>\n",
       "    <tr>\n",
       "      <th>2</th>\n",
       "      <td>18-24</td>\n",
       "      <td>female</td>\n",
       "      <td>University degree</td>\n",
       "      <td>USA</td>\n",
       "      <td>Mixed-Black/Asian</td>\n",
       "      <td>0.060927</td>\n",
       "      <td>-0.067537</td>\n",
       "      <td>0.021913</td>\n",
       "      <td>-0.04366</td>\n",
       "      <td>-0.000988</td>\n",
       "      <td>0.160278</td>\n",
       "      <td>0.096837</td>\n",
       "      <td>used in last month</td>\n",
       "      <td>never used</td>\n",
       "      <td>used in last day</td>\n",
       "      <td>used in last week</td>\n",
       "      <td>used in last week</td>\n",
       "      <td>used in last year</td>\n",
       "      <td>used in last month</td>\n",
       "      <td>No</td>\n",
       "    </tr>\n",
       "    <tr>\n",
       "      <th>3</th>\n",
       "      <td>25-34</td>\n",
       "      <td>female</td>\n",
       "      <td>Masters degree</td>\n",
       "      <td>USA</td>\n",
       "      <td>Mixed-Black/Asian</td>\n",
       "      <td>0.202927</td>\n",
       "      <td>-0.188537</td>\n",
       "      <td>-0.095087</td>\n",
       "      <td>0.06334</td>\n",
       "      <td>-0.181988</td>\n",
       "      <td>0.160278</td>\n",
       "      <td>0.187837</td>\n",
       "      <td>used in last day</td>\n",
       "      <td>never used</td>\n",
       "      <td>used in last day</td>\n",
       "      <td>used in last decade</td>\n",
       "      <td>used in last day</td>\n",
       "      <td>never used</td>\n",
       "      <td>used in last decade</td>\n",
       "      <td>No</td>\n",
       "    </tr>\n",
       "    <tr>\n",
       "      <th>4</th>\n",
       "      <td>18-24</td>\n",
       "      <td>male</td>\n",
       "      <td>Some college or university, no certificate or ...</td>\n",
       "      <td>Australia</td>\n",
       "      <td>Mixed-Black/Asian</td>\n",
       "      <td>0.045927</td>\n",
       "      <td>0.122463</td>\n",
       "      <td>0.170913</td>\n",
       "      <td>0.16134</td>\n",
       "      <td>-0.075988</td>\n",
       "      <td>0.034278</td>\n",
       "      <td>0.096837</td>\n",
       "      <td>used in last week</td>\n",
       "      <td>never used</td>\n",
       "      <td>used in last month</td>\n",
       "      <td>used in last month</td>\n",
       "      <td>used in last day</td>\n",
       "      <td>used in last year</td>\n",
       "      <td>used in last month</td>\n",
       "      <td>No</td>\n",
       "    </tr>\n",
       "  </tbody>\n",
       "</table>\n",
       "</div>"
      ],
      "text/plain": [
       "     age  gender                                          education  \\\n",
       "0  45-54    male                                     Masters degree   \n",
       "1  25-34    male                                  University degree   \n",
       "2  18-24  female                                  University degree   \n",
       "3  25-34  female                                     Masters degree   \n",
       "4  18-24    male  Some college or university, no certificate or ...   \n",
       "\n",
       "     country          ethnicity  personality_neuroticism  \\\n",
       "0        USA  Mixed-Black/Asian                 0.060927   \n",
       "1        USA  Mixed-Black/Asian                -0.037073   \n",
       "2        USA  Mixed-Black/Asian                 0.060927   \n",
       "3        USA  Mixed-Black/Asian                 0.202927   \n",
       "4  Australia  Mixed-Black/Asian                 0.045927   \n",
       "\n",
       "   personality_extraversion  personality_openness  personality_agreeableness  \\\n",
       "0                  0.072463             -0.030087                   -0.02166   \n",
       "1                  0.169463             -0.074087                   -0.02166   \n",
       "2                 -0.067537              0.021913                   -0.04366   \n",
       "3                 -0.188537             -0.095087                    0.06334   \n",
       "4                  0.122463              0.170913                    0.16134   \n",
       "\n",
       "   personality_conscientiousness  personality_impulsiveness  \\\n",
       "0                       0.037012                  -0.041722   \n",
       "1                       0.060012                  -0.131722   \n",
       "2                      -0.000988                   0.160278   \n",
       "3                      -0.181988                   0.160278   \n",
       "4                      -0.075988                   0.034278   \n",
       "\n",
       "   personality_sensation consumption_alcohol consumption_amphetamines  \\\n",
       "0              -0.299163   used in last week   used over a decade ago   \n",
       "1              -0.215163   used in last week               never used   \n",
       "2               0.096837  used in last month               never used   \n",
       "3               0.187837    used in last day               never used   \n",
       "4               0.096837   used in last week               never used   \n",
       "\n",
       "  consumption_caffeine consumption_cannabis consumption_chocolate  \\\n",
       "0     used in last day    used in last week      used in last day   \n",
       "1    used in last week           never used      used in last day   \n",
       "2     used in last day    used in last week     used in last week   \n",
       "3     used in last day  used in last decade      used in last day   \n",
       "4   used in last month   used in last month      used in last day   \n",
       "\n",
       "  consumption_mushrooms consumption_nicotine consumption_cocaine_last_month  \n",
       "0            never used    used in last week                             No  \n",
       "1            never used           never used                             No  \n",
       "2     used in last year   used in last month                             No  \n",
       "3            never used  used in last decade                             No  \n",
       "4     used in last year   used in last month                             No  "
      ]
     },
     "execution_count": 8,
     "metadata": {},
     "output_type": "execute_result"
    }
   ],
   "source": [
    "# Some of our columns needs normaliaztion, so we will do that here\n",
    "numeric_columns = data.select_dtypes(include=['int64', 'float64']).columns\n",
    "data[numeric_columns] = data[numeric_columns].apply(lambda x: (x - x.mean()) / (x.max() - x.min()))\n",
    "\n",
    "numeric_columns_validation = validation.select_dtypes(include=['int64', 'float64']).columns\n",
    "validation[numeric_columns_validation] = validation[numeric_columns_validation].apply(lambda x: (x - x.mean()) / (x.max() - x.min()))\n",
    "\n",
    "\n",
    "data.head()\n"
   ]
  },
  {
   "cell_type": "code",
   "execution_count": 9,
   "metadata": {},
   "outputs": [],
   "source": [
    "# Our categorical columns need to be encoded, so we will do that here\n",
    "# To not lose any information, we will save the original categorical columns in a json file for reference\n",
    "categorical_columns = data.select_dtypes(include=['object']).columns\n",
    "data[categorical_columns] = data[categorical_columns].apply(lambda x: x.astype('category'))\n",
    "\n",
    "categorical_columns_validation = validation.select_dtypes(include=['object']).columns\n",
    "validation[categorical_columns_validation] = data[categorical_columns_validation].apply(lambda x: x.astype('category'))\n",
    "\n",
    "def map_func(column):\n",
    "\treturn dict(enumerate(column.cat.categories))\n",
    "\n",
    "gender_map = map_func(data.gender)\n",
    "education_map = map_func(data.education)\n",
    "country_map = map_func(data.country)\n",
    "ethnicity_map = map_func(data.ethnicity)\n",
    "consumption_alcohol_map = map_func(data.consumption_alcohol)\n",
    "consumption_amphetamines_map = map_func(data.consumption_amphetamines)\n",
    "consumption_caffeine_map = map_func(data.consumption_caffeine)\n",
    "consumption_cannabis_map = map_func(data.consumption_cannabis)\n",
    "consumption_chocolate_map = map_func(data.consumption_chocolate)\n",
    "consumption_mushrooms_map = map_func(data.consumption_mushrooms)\n",
    "consumption_nicotine_map = map_func(data.consumption_nicotine)\n",
    "consumption_cocaine_last_month_map = map_func(data.consumption_cocaine_last_month)\n",
    "\n",
    "data_dict = dict({'gender_map': gender_map,\n",
    "\t\t'education_map': education_map,\n",
    "\t\t'country_map': country_map,\n",
    "\t\t'ethnicity_map': ethnicity_map,\n",
    "\t\t'consumption_alcohol_map': consumption_alcohol_map,\n",
    "\t\t'consumption_amphetamines_map': consumption_amphetamines_map,\n",
    "\t\t'consumption_caffeine_map': consumption_caffeine_map,\n",
    "\t\t'consumption_cannabis_map': consumption_cannabis_map,\n",
    "\t\t'consumption_chocolate_map': consumption_chocolate_map,\n",
    "\t\t'consumption_mushrooms_map': consumption_mushrooms_map,\n",
    "\t\t'consumption_nicotine_map': consumption_nicotine_map,\n",
    "\t\t'consumption_cocaine_last_month_map': consumption_cocaine_last_month_map})\n",
    "\n",
    "json_data = json.dumps(data_dict, indent=4)\n",
    "with open('data_dict.json', 'w+') as f:\n",
    "\tf.write(json_data)\n",
    "\n",
    "data[categorical_columns] = data[categorical_columns].apply(lambda x: x.cat.codes)\n",
    "validation[categorical_columns_validation] = validation[categorical_columns_validation].apply(lambda x: x.cat.codes)\n"
   ]
  },
  {
   "cell_type": "code",
   "execution_count": 10,
   "metadata": {},
   "outputs": [
    {
     "data": {
      "text/html": [
       "<div>\n",
       "<style scoped>\n",
       "    .dataframe tbody tr th:only-of-type {\n",
       "        vertical-align: middle;\n",
       "    }\n",
       "\n",
       "    .dataframe tbody tr th {\n",
       "        vertical-align: top;\n",
       "    }\n",
       "\n",
       "    .dataframe thead th {\n",
       "        text-align: right;\n",
       "    }\n",
       "</style>\n",
       "<table border=\"1\" class=\"dataframe\">\n",
       "  <thead>\n",
       "    <tr style=\"text-align: right;\">\n",
       "      <th></th>\n",
       "      <th>age</th>\n",
       "      <th>gender</th>\n",
       "      <th>education</th>\n",
       "      <th>country</th>\n",
       "      <th>ethnicity</th>\n",
       "      <th>personality_neuroticism</th>\n",
       "      <th>personality_extraversion</th>\n",
       "      <th>personality_openness</th>\n",
       "      <th>personality_agreeableness</th>\n",
       "      <th>personality_conscientiousness</th>\n",
       "      <th>personality_impulsiveness</th>\n",
       "      <th>personality_sensation</th>\n",
       "      <th>consumption_alcohol</th>\n",
       "      <th>consumption_amphetamines</th>\n",
       "      <th>consumption_caffeine</th>\n",
       "      <th>consumption_cannabis</th>\n",
       "      <th>consumption_chocolate</th>\n",
       "      <th>consumption_mushrooms</th>\n",
       "      <th>consumption_nicotine</th>\n",
       "      <th>consumption_cocaine_last_month</th>\n",
       "    </tr>\n",
       "  </thead>\n",
       "  <tbody>\n",
       "    <tr>\n",
       "      <th>0</th>\n",
       "      <td>3</td>\n",
       "      <td>1</td>\n",
       "      <td>5</td>\n",
       "      <td>6</td>\n",
       "      <td>2</td>\n",
       "      <td>0.060927</td>\n",
       "      <td>0.072463</td>\n",
       "      <td>-0.030087</td>\n",
       "      <td>-0.02166</td>\n",
       "      <td>0.037012</td>\n",
       "      <td>-0.041722</td>\n",
       "      <td>-0.299163</td>\n",
       "      <td>4</td>\n",
       "      <td>6</td>\n",
       "      <td>1</td>\n",
       "      <td>4</td>\n",
       "      <td>1</td>\n",
       "      <td>0</td>\n",
       "      <td>4</td>\n",
       "      <td>0</td>\n",
       "    </tr>\n",
       "    <tr>\n",
       "      <th>1</th>\n",
       "      <td>1</td>\n",
       "      <td>1</td>\n",
       "      <td>8</td>\n",
       "      <td>6</td>\n",
       "      <td>2</td>\n",
       "      <td>-0.037073</td>\n",
       "      <td>0.169463</td>\n",
       "      <td>-0.074087</td>\n",
       "      <td>-0.02166</td>\n",
       "      <td>0.060012</td>\n",
       "      <td>-0.131722</td>\n",
       "      <td>-0.215163</td>\n",
       "      <td>4</td>\n",
       "      <td>0</td>\n",
       "      <td>4</td>\n",
       "      <td>0</td>\n",
       "      <td>1</td>\n",
       "      <td>0</td>\n",
       "      <td>0</td>\n",
       "      <td>0</td>\n",
       "    </tr>\n",
       "    <tr>\n",
       "      <th>2</th>\n",
       "      <td>0</td>\n",
       "      <td>0</td>\n",
       "      <td>8</td>\n",
       "      <td>6</td>\n",
       "      <td>2</td>\n",
       "      <td>0.060927</td>\n",
       "      <td>-0.067537</td>\n",
       "      <td>0.021913</td>\n",
       "      <td>-0.04366</td>\n",
       "      <td>-0.000988</td>\n",
       "      <td>0.160278</td>\n",
       "      <td>0.096837</td>\n",
       "      <td>3</td>\n",
       "      <td>0</td>\n",
       "      <td>1</td>\n",
       "      <td>4</td>\n",
       "      <td>4</td>\n",
       "      <td>5</td>\n",
       "      <td>3</td>\n",
       "      <td>0</td>\n",
       "    </tr>\n",
       "    <tr>\n",
       "      <th>3</th>\n",
       "      <td>1</td>\n",
       "      <td>0</td>\n",
       "      <td>5</td>\n",
       "      <td>6</td>\n",
       "      <td>2</td>\n",
       "      <td>0.202927</td>\n",
       "      <td>-0.188537</td>\n",
       "      <td>-0.095087</td>\n",
       "      <td>0.06334</td>\n",
       "      <td>-0.181988</td>\n",
       "      <td>0.160278</td>\n",
       "      <td>0.187837</td>\n",
       "      <td>1</td>\n",
       "      <td>0</td>\n",
       "      <td>1</td>\n",
       "      <td>2</td>\n",
       "      <td>1</td>\n",
       "      <td>0</td>\n",
       "      <td>2</td>\n",
       "      <td>0</td>\n",
       "    </tr>\n",
       "    <tr>\n",
       "      <th>4</th>\n",
       "      <td>0</td>\n",
       "      <td>1</td>\n",
       "      <td>7</td>\n",
       "      <td>0</td>\n",
       "      <td>2</td>\n",
       "      <td>0.045927</td>\n",
       "      <td>0.122463</td>\n",
       "      <td>0.170913</td>\n",
       "      <td>0.16134</td>\n",
       "      <td>-0.075988</td>\n",
       "      <td>0.034278</td>\n",
       "      <td>0.096837</td>\n",
       "      <td>4</td>\n",
       "      <td>0</td>\n",
       "      <td>3</td>\n",
       "      <td>3</td>\n",
       "      <td>1</td>\n",
       "      <td>5</td>\n",
       "      <td>3</td>\n",
       "      <td>0</td>\n",
       "    </tr>\n",
       "  </tbody>\n",
       "</table>\n",
       "</div>"
      ],
      "text/plain": [
       "   age  gender  education  country  ethnicity  personality_neuroticism  \\\n",
       "0    3       1          5        6          2                 0.060927   \n",
       "1    1       1          8        6          2                -0.037073   \n",
       "2    0       0          8        6          2                 0.060927   \n",
       "3    1       0          5        6          2                 0.202927   \n",
       "4    0       1          7        0          2                 0.045927   \n",
       "\n",
       "   personality_extraversion  personality_openness  personality_agreeableness  \\\n",
       "0                  0.072463             -0.030087                   -0.02166   \n",
       "1                  0.169463             -0.074087                   -0.02166   \n",
       "2                 -0.067537              0.021913                   -0.04366   \n",
       "3                 -0.188537             -0.095087                    0.06334   \n",
       "4                  0.122463              0.170913                    0.16134   \n",
       "\n",
       "   personality_conscientiousness  personality_impulsiveness  \\\n",
       "0                       0.037012                  -0.041722   \n",
       "1                       0.060012                  -0.131722   \n",
       "2                      -0.000988                   0.160278   \n",
       "3                      -0.181988                   0.160278   \n",
       "4                      -0.075988                   0.034278   \n",
       "\n",
       "   personality_sensation  consumption_alcohol  consumption_amphetamines  \\\n",
       "0              -0.299163                    4                         6   \n",
       "1              -0.215163                    4                         0   \n",
       "2               0.096837                    3                         0   \n",
       "3               0.187837                    1                         0   \n",
       "4               0.096837                    4                         0   \n",
       "\n",
       "   consumption_caffeine  consumption_cannabis  consumption_chocolate  \\\n",
       "0                     1                     4                      1   \n",
       "1                     4                     0                      1   \n",
       "2                     1                     4                      4   \n",
       "3                     1                     2                      1   \n",
       "4                     3                     3                      1   \n",
       "\n",
       "   consumption_mushrooms  consumption_nicotine  consumption_cocaine_last_month  \n",
       "0                      0                     4                               0  \n",
       "1                      0                     0                               0  \n",
       "2                      5                     3                               0  \n",
       "3                      0                     2                               0  \n",
       "4                      5                     3                               0  "
      ]
     },
     "execution_count": 10,
     "metadata": {},
     "output_type": "execute_result"
    }
   ],
   "source": [
    "# As you see, we have encoded our categorical columns and normalized our numeric columns.\n",
    "# Now we can split our data into training and test sets and then we can start our analysis.\n",
    "data.head()"
   ]
  },
  {
   "cell_type": "code",
   "execution_count": 11,
   "metadata": {},
   "outputs": [],
   "source": [
    "X = data.drop('consumption_cocaine_last_month', axis=1)\n",
    "y = data.pop('consumption_cocaine_last_month')\n",
    "\n",
    "Xtrain, Xtest, ytrain, ytest = train_test_split(X,y, test_size=0.25, random_state=1)\n"
   ]
  },
  {
   "cell_type": "code",
   "execution_count": 12,
   "metadata": {},
   "outputs": [],
   "source": [
    "# Building Decision Tree Model\n",
    "# default 'gini' criteria to split the tree\n",
    "\n",
    "\n",
    "dTgini = DecisionTreeClassifier(criterion='gini', random_state=1)\n",
    "\n",
    "# default 'entropy' criteria to split the tree\n",
    "dTentropy = DecisionTreeClassifier(criterion='entropy', random_state=2)\n",
    "\n",
    "\n"
   ]
  },
  {
   "cell_type": "code",
   "execution_count": 13,
   "metadata": {},
   "outputs": [
    {
     "name": "stdout",
     "output_type": "stream",
     "text": [
      "Decision Tree with Gini Index:\n",
      "Accuracy of DT with Gini Index: (Train Set) 1.0000\n",
      "\n",
      "\n"
     ]
    }
   ],
   "source": [
    "print('Decision Tree with Gini Index:')\n",
    "dTgini.fit(Xtrain, ytrain)\n",
    "print('Accuracy of DT with Gini Index: (Train Set) {:.4f}'.format(dTgini.score(Xtrain, ytrain)))\n",
    "print('\\n')\n"
   ]
  },
  {
   "cell_type": "code",
   "execution_count": 14,
   "metadata": {},
   "outputs": [
    {
     "name": "stdout",
     "output_type": "stream",
     "text": [
      "Decision Tree with Entropy:\n",
      "Accuracy of DT with Entropy: (Train Set) 0.8560\n",
      "\n",
      "\n"
     ]
    }
   ],
   "source": [
    "print('Decision Tree with Entropy:')\n",
    "dTentropy.fit(Xtrain, ytrain)\n",
    "print('Accuracy of DT with Entropy: (Train Set) {:.4f}'.format(dTentropy.score(Xtest, ytest)))\n",
    "print('\\n')"
   ]
  },
  {
   "cell_type": "code",
   "execution_count": 15,
   "metadata": {},
   "outputs": [],
   "source": [
    "#Visualizing the decision tree as png\n",
    "dot_data = tree.export_graphviz(dTgini, out_file=None, feature_names=X.columns, filled=True, rounded=True, special_characters=True)\n",
    "graph = graphviz.Source(dot_data)\n",
    "graph.render(\"drugs_decision_tree_gini\")\n",
    "\n",
    "(graph,) = pydot.graph_from_dot_file('drugs_decision_tree_gini')\n",
    "graph.write_png('drugs_decision_tree_gini.png')\n",
    "\n",
    "# Due to size of the decision tree, we will not be able to visualize it properly but It is nice to save it as PNG file to be able to view it later."
   ]
  },
  {
   "cell_type": "markdown",
   "metadata": {},
   "source": [
    "![Decision Tree](./drugs_decision_tree_gini.png)"
   ]
  },
  {
   "cell_type": "code",
   "execution_count": 16,
   "metadata": {},
   "outputs": [
    {
     "name": "stdout",
     "output_type": "stream",
     "text": [
      "Cross Validation Accuracy of DT with Gini Index: 0.8317\n",
      "Cross Validation Accuracy of DT with Entropy: 0.8454\n"
     ]
    }
   ],
   "source": [
    "# Our model may have some overfitting problem, cross validation is a good way to see if we can improve our model.\n",
    "# We will use cross validation to see if we can improve our model.\n",
    "# We will use 10-fold cross validation to see if we can improve our model.\n",
    "\n",
    "# The procedure has a single parameter called k that refers to the number of groups that a given data sample is to be split into. \n",
    "# As such, the procedure is often called k-fold cross-validation. When a specific value for k is chosen, it may be used in place of k in the reference to the model, \n",
    "# such as k=10 becoming 10-fold cross-validation.\n",
    "# If k=10 the dataset will be divided into 5 equal parts and the below process will run 10 times, each time with a different holdout set.\n",
    "\n",
    "# We will use 'gini' criteria to split the tree.\n",
    "from sklearn.model_selection import cross_val_score\n",
    "\n",
    "scores = cross_val_score(dTgini, Xtest, ytest, cv=10, scoring='accuracy')\n",
    "print('Cross Validation Accuracy of DT with Gini Index: {:.4f}'.format(scores.mean()))\n",
    "\n",
    "# We can see that our model is not overfitting, so we will use 'entropy' criteria to split the tree.\n",
    "\n",
    "scores = cross_val_score(dTentropy, Xtest, ytest, cv=10, scoring='accuracy')\n",
    "print('Cross Validation Accuracy of DT with Entropy: {:.4f}'.format(scores.mean()))\n",
    "\n",
    "# Both of our models are not overfitting\n",
    "\n"
   ]
  },
  {
   "cell_type": "code",
   "execution_count": 17,
   "metadata": {},
   "outputs": [
    {
     "name": "stdout",
     "output_type": "stream",
     "text": [
      "                                    Imp\n",
      "age                            0.041264\n",
      "gender                         0.000000\n",
      "education                      0.065945\n",
      "country                        0.052809\n",
      "ethnicity                      0.019369\n",
      "personality_neuroticism        0.076485\n",
      "personality_extraversion       0.120869\n",
      "personality_openness           0.098713\n",
      "personality_agreeableness      0.036436\n",
      "personality_conscientiousness  0.103958\n",
      "personality_impulsiveness      0.061303\n",
      "personality_sensation          0.099135\n",
      "consumption_alcohol            0.037160\n",
      "consumption_amphetamines       0.070684\n",
      "consumption_caffeine           0.003802\n",
      "consumption_cannabis           0.021259\n",
      "consumption_chocolate          0.029535\n",
      "consumption_mushrooms          0.024985\n",
      "consumption_nicotine           0.036289\n"
     ]
    }
   ],
   "source": [
    "# importance of features in the tree building \n",
    "print(pd.DataFrame(dTgini.feature_importances_, columns = ['Imp'], index = Xtrain.columns))"
   ]
  },
  {
   "cell_type": "code",
   "execution_count": 18,
   "metadata": {},
   "outputs": [
    {
     "data": {
      "text/plain": [
       "<AxesSubplot:>"
      ]
     },
     "execution_count": 18,
     "metadata": {},
     "output_type": "execute_result"
    },
    {
     "data": {
      "image/png": "[encoded data removed]",
      "text/plain": [
       "<Figure size 504x360 with 2 Axes>"
      ]
     },
     "metadata": {
      "needs_background": "light"
     },
     "output_type": "display_data"
    }
   ],
   "source": [
    "#Confusion Matrix\n",
    "from sklearn.metrics import confusion_matrix\n",
    "\n",
    "ypredict = dTgini.predict(Xtest)\n",
    "\n",
    "cm = confusion_matrix(ytest, ypredict, labels=[0,1])\n",
    "\n",
    "df_cm = pd.DataFrame(cm, index = [i for i in ['No', 'Yes']],\n",
    "                    columns = [i for i in ['No', 'Yes']]\n",
    "                    )\n",
    "\n",
    "plt.figure(figsize = (7,5))\n",
    "sns.heatmap(df_cm, annot = True, fmt = 'g')"
   ]
  },
  {
   "cell_type": "code",
   "execution_count": 19,
   "metadata": {},
   "outputs": [
    {
     "name": "stdout",
     "output_type": "stream",
     "text": [
      "              precision    recall  f1-score   support\n",
      "\n",
      "           0       0.93      0.90      0.92       347\n",
      "           1       0.08      0.11      0.09        28\n",
      "\n",
      "    accuracy                           0.85       375\n",
      "   macro avg       0.50      0.51      0.50       375\n",
      "weighted avg       0.86      0.85      0.85       375\n",
      "\n"
     ]
    }
   ],
   "source": [
    "print(classification_report(ytest, ypredict))\n",
    "\n",
    "# As we see from our classification report, our predictions are accurate but our data is not very well balanced.\n"
   ]
  },
  {
   "cell_type": "code",
   "execution_count": 20,
   "metadata": {},
   "outputs": [
    {
     "name": "stdout",
     "output_type": "stream",
     "text": [
      "Before Counter({0: 1373, 1: 127})\n",
      "After Counter({0: 1373, 1: 1373})\n"
     ]
    },
    {
     "data": {
      "image/png": "[encoded data removed]",
      "text/plain": [
       "<Figure size 432x288 with 1 Axes>"
      ]
     },
     "metadata": {
      "needs_background": "light"
     },
     "output_type": "display_data"
    }
   ],
   "source": [
    "# Imbalanced data is a problem in machine learning.\n",
    "# We will use SMOTE to balance our data.\n",
    "\n",
    "import collections\n",
    "\n",
    "counter = collections.Counter(y)\n",
    "print('Before',counter)\n",
    "\n",
    "oversample = imblearn.over_sampling.SMOTE(random_state=1)\n",
    "X, y = oversample.fit_sample(X, y)\n",
    "\n",
    "counter = collections.Counter(y)\n",
    "print('After',counter)\n",
    "\n",
    "\n",
    "pd.Series(y).value_counts().plot(kind='bar', title='Class distribution after appying SMOTE', xlabel='consumption_cocaine_last_month', ylabel='Count')\n",
    "plt.show()"
   ]
  },
  {
   "cell_type": "code",
   "execution_count": 21,
   "metadata": {},
   "outputs": [],
   "source": [
    "# As you see from our class distribution, our data is now balanced.\n",
    "# Now we will use our resampled data to train our model.\n",
    "\n",
    "Xtrain, Xtest, ytrain, ytest = train_test_split(X,y, test_size=0.25, random_state=1)\n"
   ]
  },
  {
   "cell_type": "code",
   "execution_count": 22,
   "metadata": {},
   "outputs": [
    {
     "name": "stdout",
     "output_type": "stream",
     "text": [
      "Decision Tree with Gini Index:\n",
      "Accuracy of DT with Gini Index: 0.8923\n",
      "\n",
      "\n",
      "balanced accuracy score: 0.8922\n",
      "\n",
      "\n"
     ]
    }
   ],
   "source": [
    "print('Decision Tree with Gini Index:')\n",
    "dTgini.fit(Xtrain, ytrain)\n",
    "print('Accuracy of DT with Gini Index: {:.4f}'.format(dTgini.score(Xtest, ytest)))\n",
    "print('\\n')\n",
    "\n",
    "# predicted values\n",
    "ypredict = dTgini.predict(Xtest)\n",
    "\n",
    "print('balanced accuracy score: {:.4f}'.format(balanced_accuracy_score(ytest, ypredict)))\n",
    "print('\\n')\n",
    "\n"
   ]
  },
  {
   "cell_type": "code",
   "execution_count": 23,
   "metadata": {},
   "outputs": [
    {
     "data": {
      "text/html": [
       "<div>\n",
       "<style scoped>\n",
       "    .dataframe tbody tr th:only-of-type {\n",
       "        vertical-align: middle;\n",
       "    }\n",
       "\n",
       "    .dataframe tbody tr th {\n",
       "        vertical-align: top;\n",
       "    }\n",
       "\n",
       "    .dataframe thead th {\n",
       "        text-align: right;\n",
       "    }\n",
       "</style>\n",
       "<table border=\"1\" class=\"dataframe\">\n",
       "  <thead>\n",
       "    <tr style=\"text-align: right;\">\n",
       "      <th></th>\n",
       "      <th>age</th>\n",
       "      <th>gender</th>\n",
       "      <th>education</th>\n",
       "      <th>country</th>\n",
       "      <th>ethnicity</th>\n",
       "      <th>personality_neuroticism</th>\n",
       "      <th>personality_extraversion</th>\n",
       "      <th>personality_openness</th>\n",
       "      <th>personality_agreeableness</th>\n",
       "      <th>personality_conscientiousness</th>\n",
       "      <th>personality_impulsiveness</th>\n",
       "      <th>personality_sensation</th>\n",
       "      <th>consumption_alcohol</th>\n",
       "      <th>consumption_amphetamines</th>\n",
       "      <th>consumption_caffeine</th>\n",
       "      <th>consumption_cannabis</th>\n",
       "      <th>consumption_chocolate</th>\n",
       "      <th>consumption_mushrooms</th>\n",
       "      <th>consumption_nicotine</th>\n",
       "    </tr>\n",
       "  </thead>\n",
       "  <tbody>\n",
       "    <tr>\n",
       "      <th>0</th>\n",
       "      <td>3</td>\n",
       "      <td>1</td>\n",
       "      <td>5</td>\n",
       "      <td>6</td>\n",
       "      <td>2</td>\n",
       "      <td>-0.168255</td>\n",
       "      <td>0.244132</td>\n",
       "      <td>0.081794</td>\n",
       "      <td>-0.055461</td>\n",
       "      <td>-0.124354</td>\n",
       "      <td>0.16154</td>\n",
       "      <td>0.20901</td>\n",
       "      <td>4</td>\n",
       "      <td>6</td>\n",
       "      <td>1</td>\n",
       "      <td>4</td>\n",
       "      <td>1</td>\n",
       "      <td>0</td>\n",
       "      <td>4</td>\n",
       "    </tr>\n",
       "    <tr>\n",
       "      <th>1</th>\n",
       "      <td>1</td>\n",
       "      <td>1</td>\n",
       "      <td>8</td>\n",
       "      <td>6</td>\n",
       "      <td>2</td>\n",
       "      <td>0.141960</td>\n",
       "      <td>-0.021868</td>\n",
       "      <td>0.220953</td>\n",
       "      <td>-0.081165</td>\n",
       "      <td>0.145953</td>\n",
       "      <td>0.09654</td>\n",
       "      <td>0.20901</td>\n",
       "      <td>4</td>\n",
       "      <td>0</td>\n",
       "      <td>4</td>\n",
       "      <td>0</td>\n",
       "      <td>1</td>\n",
       "      <td>0</td>\n",
       "      <td>0</td>\n",
       "    </tr>\n",
       "    <tr>\n",
       "      <th>2</th>\n",
       "      <td>0</td>\n",
       "      <td>0</td>\n",
       "      <td>8</td>\n",
       "      <td>6</td>\n",
       "      <td>2</td>\n",
       "      <td>0.063776</td>\n",
       "      <td>0.028132</td>\n",
       "      <td>-0.191129</td>\n",
       "      <td>0.102434</td>\n",
       "      <td>0.112664</td>\n",
       "      <td>0.09654</td>\n",
       "      <td>-0.11399</td>\n",
       "      <td>3</td>\n",
       "      <td>0</td>\n",
       "      <td>1</td>\n",
       "      <td>4</td>\n",
       "      <td>4</td>\n",
       "      <td>5</td>\n",
       "      <td>3</td>\n",
       "    </tr>\n",
       "    <tr>\n",
       "      <th>3</th>\n",
       "      <td>1</td>\n",
       "      <td>0</td>\n",
       "      <td>5</td>\n",
       "      <td>6</td>\n",
       "      <td>2</td>\n",
       "      <td>0.261758</td>\n",
       "      <td>0.003132</td>\n",
       "      <td>-0.074624</td>\n",
       "      <td>-0.136244</td>\n",
       "      <td>-0.100386</td>\n",
       "      <td>0.16154</td>\n",
       "      <td>-0.03599</td>\n",
       "      <td>1</td>\n",
       "      <td>0</td>\n",
       "      <td>1</td>\n",
       "      <td>2</td>\n",
       "      <td>1</td>\n",
       "      <td>0</td>\n",
       "      <td>2</td>\n",
       "    </tr>\n",
       "    <tr>\n",
       "      <th>4</th>\n",
       "      <td>0</td>\n",
       "      <td>1</td>\n",
       "      <td>7</td>\n",
       "      <td>0</td>\n",
       "      <td>2</td>\n",
       "      <td>0.141960</td>\n",
       "      <td>-0.085868</td>\n",
       "      <td>-0.360493</td>\n",
       "      <td>-0.136244</td>\n",
       "      <td>-0.368029</td>\n",
       "      <td>-0.04046</td>\n",
       "      <td>-0.11399</td>\n",
       "      <td>4</td>\n",
       "      <td>0</td>\n",
       "      <td>3</td>\n",
       "      <td>3</td>\n",
       "      <td>1</td>\n",
       "      <td>5</td>\n",
       "      <td>3</td>\n",
       "    </tr>\n",
       "  </tbody>\n",
       "</table>\n",
       "</div>"
      ],
      "text/plain": [
       "   age  gender  education  country  ethnicity  personality_neuroticism  \\\n",
       "0    3       1          5        6          2                -0.168255   \n",
       "1    1       1          8        6          2                 0.141960   \n",
       "2    0       0          8        6          2                 0.063776   \n",
       "3    1       0          5        6          2                 0.261758   \n",
       "4    0       1          7        0          2                 0.141960   \n",
       "\n",
       "   personality_extraversion  personality_openness  personality_agreeableness  \\\n",
       "0                  0.244132              0.081794                  -0.055461   \n",
       "1                 -0.021868              0.220953                  -0.081165   \n",
       "2                  0.028132             -0.191129                   0.102434   \n",
       "3                  0.003132             -0.074624                  -0.136244   \n",
       "4                 -0.085868             -0.360493                  -0.136244   \n",
       "\n",
       "   personality_conscientiousness  personality_impulsiveness  \\\n",
       "0                      -0.124354                    0.16154   \n",
       "1                       0.145953                    0.09654   \n",
       "2                       0.112664                    0.09654   \n",
       "3                      -0.100386                    0.16154   \n",
       "4                      -0.368029                   -0.04046   \n",
       "\n",
       "   personality_sensation  consumption_alcohol  consumption_amphetamines  \\\n",
       "0                0.20901                    4                         6   \n",
       "1                0.20901                    4                         0   \n",
       "2               -0.11399                    3                         0   \n",
       "3               -0.03599                    1                         0   \n",
       "4               -0.11399                    4                         0   \n",
       "\n",
       "   consumption_caffeine  consumption_cannabis  consumption_chocolate  \\\n",
       "0                     1                     4                      1   \n",
       "1                     4                     0                      1   \n",
       "2                     1                     4                      4   \n",
       "3                     1                     2                      1   \n",
       "4                     3                     3                      1   \n",
       "\n",
       "   consumption_mushrooms  consumption_nicotine  \n",
       "0                      0                     4  \n",
       "1                      0                     0  \n",
       "2                      5                     3  \n",
       "3                      0                     2  \n",
       "4                      5                     3  "
      ]
     },
     "execution_count": 23,
     "metadata": {},
     "output_type": "execute_result"
    }
   ],
   "source": [
    "# Let's use validation set to predict Y axis since we do no have Y axis in validation set\n",
    "\n",
    "validation_y = dTgini.predict(validation)\n",
    "score = dTgini.score(validation,validation_y)\n",
    "\n",
    "# So let's merge the labels with validation data as a new column and try to analyze it.\n",
    "validation['consumption_cocaine_last_month'] = validation_y\n",
    "\n",
    "validation_x = validation.drop('consumption_cocaine_last_month', axis=1)\n",
    "validation_y = validation.pop('consumption_cocaine_last_month')\n",
    "\n",
    "validation.head()\n"
   ]
  },
  {
   "cell_type": "code",
   "execution_count": 24,
   "metadata": {},
   "outputs": [],
   "source": [
    "# We can not print a new score based on validation dataset because labels are created based on DecisionTree predict method, \n",
    "# if we try to predict another score with validation_x and validation_y the result will be 100 percent.\n",
    "# So we will take that values as result of our model and not going to use for testing quality of the model. \n",
    "# We can assume like validation set is a real life data input coming from a pipeline \n",
    "# and there is no point to make further analysis based on it because there is not a \"REAL\" labels column."
   ]
  },
  {
   "cell_type": "code",
   "execution_count": 25,
   "metadata": {},
   "outputs": [
    {
     "name": "stdout",
     "output_type": "stream",
     "text": [
      "Decision Tree with Entropy:\n",
      "Accuracy of DT with Entropy: 0.8879\n",
      "\n",
      "\n",
      "balanced accuracy score: 0.8877\n",
      "\n",
      "\n"
     ]
    }
   ],
   "source": [
    "print('Decision Tree with Entropy:')\n",
    "dTentropy.fit(Xtrain, ytrain)\n",
    "print('Accuracy of DT with Entropy: {:.4f}'.format(dTentropy.score(Xtest, ytest)))\n",
    "print('\\n')\n",
    "\n",
    "# predicted values\n",
    "ypredict = dTentropy.predict(Xtest)\n",
    "\n",
    "print('balanced accuracy score: {:.4f}'.format(balanced_accuracy_score(ytest, ypredict)))\n",
    "print('\\n')"
   ]
  },
  {
   "cell_type": "code",
   "execution_count": 26,
   "metadata": {},
   "outputs": [
    {
     "data": {
      "text/plain": [
       "<AxesSubplot:>"
      ]
     },
     "execution_count": 26,
     "metadata": {},
     "output_type": "execute_result"
    },
    {
     "data": {
      "image/png": "[encoded data removed]",
      "text/plain": [
       "<Figure size 504x360 with 2 Axes>"
      ]
     },
     "metadata": {
      "needs_background": "light"
     },
     "output_type": "display_data"
    }
   ],
   "source": [
    "#Confusion Matrix\n",
    "from sklearn.metrics import confusion_matrix\n",
    "\n",
    "ypredict = dTgini.predict(Xtest)\n",
    "\n",
    "cm = confusion_matrix(ytest, ypredict, labels=[0,1])\n",
    "\n",
    "df_cm = pd.DataFrame(cm, index = [i for i in ['No', 'Yes']],\n",
    "                    columns = [i for i in ['No', 'Yes']]\n",
    "                    )\n",
    "\n",
    "plt.figure(figsize = (7,5))\n",
    "sns.heatmap(df_cm, annot = True, fmt = 'g')"
   ]
  },
  {
   "cell_type": "code",
   "execution_count": 27,
   "metadata": {},
   "outputs": [
    {
     "name": "stdout",
     "output_type": "stream",
     "text": [
      "              precision    recall  f1-score   support\n",
      "\n",
      "           0       0.90      0.89      0.89       340\n",
      "           1       0.89      0.90      0.89       347\n",
      "\n",
      "    accuracy                           0.89       687\n",
      "   macro avg       0.89      0.89      0.89       687\n",
      "weighted avg       0.89      0.89      0.89       687\n",
      "\n"
     ]
    }
   ],
   "source": [
    "print(classification_report(ytest, ypredict))\n"
   ]
  },
  {
   "cell_type": "code",
   "execution_count": 28,
   "metadata": {},
   "outputs": [],
   "source": [
    "# After balancing the data classification report shows our \"real\" accuracy is around .89.\n"
   ]
  },
  {
   "cell_type": "code",
   "execution_count": 29,
   "metadata": {},
   "outputs": [
    {
     "data": {
      "image/png": "[encoded data removed]",
      "text/plain": [
       "<Figure size 432x288 with 1 Axes>"
      ]
     },
     "metadata": {
      "needs_background": "light"
     },
     "output_type": "display_data"
    }
   ],
   "source": [
    "#ROC curve Decison Tree\n",
    "\n",
    "dTprob = dTgini.predict_proba(Xtest)[:,1]\n",
    "\n",
    "fpr, tpr, threshold = roc_curve(ytest, dTprob)\n",
    "\n",
    "plt.plot([0,1],[0,1], linestyle='--')\n",
    "\n",
    "plt.plot(fpr, tpr, label='ROC')\n",
    "_ = plt.xlabel('False Positive Rate')\n",
    "_ = plt.ylabel('True Positive Rate')\n",
    "_ = plt.title('ROC Curve')\n",
    "_ = plt.xlim([-0.02, 1])\n",
    "_ = plt.ylim([0, 1.02])\n",
    "_ = plt.legend(loc=\"lower right\")"
   ]
  },
  {
   "cell_type": "code",
   "execution_count": 30,
   "metadata": {},
   "outputs": [
    {
     "name": "stdout",
     "output_type": "stream",
     "text": [
      "AUC: 0.8922147821664689\n"
     ]
    }
   ],
   "source": [
    "#The more that the ROC curve hugs the top left corner of the plot, the better the model does at classifying the data into categories.\n",
    "#Our model has high AUC, which indicates that it has the very wide area under the curve and is the nice model at correctly classifying observations into categories.\n",
    "decisionTree_score = roc_auc_score(ytest, dTprob)\n",
    "print('AUC:',roc_auc_score(ytest, dTprob))"
   ]
  },
  {
   "cell_type": "code",
   "execution_count": 31,
   "metadata": {},
   "outputs": [
    {
     "name": "stdout",
     "output_type": "stream",
     "text": [
      "KNN with K=5:\n",
      "Accuracy of KNN with K=5: 0.8734\n",
      "\n",
      "\n",
      "KNN with K=10:\n",
      "Accuracy of KNN with K=10: 0.8574\n",
      "\n",
      "\n",
      "balanced accuracy score: 0.8721\n",
      "\n",
      "\n"
     ]
    }
   ],
   "source": [
    "# KNN model with K=5 and K=10\n",
    "\n",
    "from sklearn.neighbors import KNeighborsClassifier\n",
    "\n",
    "knn5 = KNeighborsClassifier(n_neighbors=5)\n",
    "knn10 = KNeighborsClassifier(n_neighbors=10)\n",
    "\n",
    "knn5.fit(Xtrain, ytrain)\n",
    "knn10.fit(Xtrain, ytrain)\n",
    "\n",
    "print('KNN with K=5:')\n",
    "print('Accuracy of KNN with K=5: {:.4f}'.format(knn5.score(Xtest, ytest)))\n",
    "print('\\n')\n",
    "\n",
    "print('KNN with K=10:')\n",
    "print('Accuracy of KNN with K=10: {:.4f}'.format(knn10.score(Xtest, ytest)))\n",
    "print('\\n')\n",
    "\n",
    "# predicted values\n",
    "ypredict = knn5.predict(Xtest)\n",
    "\n",
    "print('balanced accuracy score: {:.4f}'.format(balanced_accuracy_score(ytest, ypredict)))\n",
    "print('\\n')\n",
    "\n",
    "\n",
    "\n",
    "\n"
   ]
  },
  {
   "cell_type": "code",
   "execution_count": 32,
   "metadata": {},
   "outputs": [
    {
     "data": {
      "image/png": "[encoded data removed]",
      "text/plain": [
       "<Figure size 504x360 with 2 Axes>"
      ]
     },
     "metadata": {
      "needs_background": "light"
     },
     "output_type": "display_data"
    }
   ],
   "source": [
    "#Confusion Matrix\n",
    "cm = confusion_matrix(ytest, ypredict, labels = [0, 1])\n",
    "\n",
    "df_cm = pd.DataFrame(cm, index = [i for i in ['No', 'Yes']],\n",
    "                    columns = [i for i in ['No', 'Yes']])\n",
    "\n",
    "plt.figure(figsize=(7,5))\n",
    "sns.heatmap(df_cm, annot = True, fmt='g');"
   ]
  },
  {
   "cell_type": "code",
   "execution_count": 33,
   "metadata": {},
   "outputs": [
    {
     "name": "stdout",
     "output_type": "stream",
     "text": [
      "Classification Report:\n",
      "               precision    recall  f1-score   support\n",
      "\n",
      "           0       1.00      0.74      0.85       340\n",
      "           1       0.80      1.00      0.89       347\n",
      "\n",
      "    accuracy                           0.87       687\n",
      "   macro avg       0.90      0.87      0.87       687\n",
      "weighted avg       0.90      0.87      0.87       687\n",
      "\n"
     ]
    }
   ],
   "source": [
    "print('Classification Report:\\n', classification_report(ytest, ypredict))"
   ]
  },
  {
   "cell_type": "code",
   "execution_count": 34,
   "metadata": {},
   "outputs": [
    {
     "data": {
      "image/png": "[encoded data removed]",
      "text/plain": [
       "<Figure size 432x288 with 1 Axes>"
      ]
     },
     "metadata": {
      "needs_background": "light"
     },
     "output_type": "display_data"
    }
   ],
   "source": [
    "prob = knn5.predict_proba(Xtest)[:,1]\n",
    "\n",
    "fpr, tpr, threshold = roc_curve(ytest, prob)\n",
    "\n",
    "plt.plot([0,1],[0,1],linestyle='--')\n",
    "plt.plot(fpr, tpr, label='ROC')\n",
    "_=plt.xlabel('False Positive Rate')\n",
    "_=plt.ylabel('True Positive Rate')\n",
    "_=plt.title('ROC Curve')\n",
    "_=plt.xlim([-0.02,1])\n",
    "_=plt.legend(loc='lower right')"
   ]
  },
  {
   "cell_type": "code",
   "execution_count": 35,
   "metadata": {},
   "outputs": [
    {
     "name": "stdout",
     "output_type": "stream",
     "text": [
      "AUC: 0.9643668418375996\n"
     ]
    }
   ],
   "source": [
    "knn5_score = roc_auc_score(ytest, prob)\n",
    "print('AUC:',roc_auc_score(ytest, prob))"
   ]
  },
  {
   "cell_type": "code",
   "execution_count": 36,
   "metadata": {},
   "outputs": [
    {
     "name": "stdout",
     "output_type": "stream",
     "text": [
      "Cross Validation Accuracy of DT with Gini Index: 0.7786\n"
     ]
    }
   ],
   "source": [
    "# After 0.93 percent of accuracy I would love to perform a cross validation check to test overfitting\n",
    "\n",
    "scores = cross_val_score(knn5, Xtest, ytest, cv=10, scoring='accuracy')\n",
    "print('Cross Validation Accuracy of KNN: {:.4f}'.format(scores.mean()))\n",
    "\n",
    "# Cross validation score shows us a more realistic accuracy rate"
   ]
  },
  {
   "cell_type": "code",
   "execution_count": 37,
   "metadata": {},
   "outputs": [
    {
     "name": "stdout",
     "output_type": "stream",
     "text": [
      "Train Score: 0.893152015541525\n",
      "Test Score: 0.8675400291120815\n"
     ]
    }
   ],
   "source": [
    "#adabossting\n",
    "adaBoost = AdaBoostClassifier(\n",
    "                             #base_estimator=dTgini1,\n",
    "                             n_estimators=50,\n",
    "                             random_state=2)\n",
    "adaBoost = adaBoost.fit(Xtrain, ytrain)\n",
    "\n",
    "ypredict= adaBoost.predict(Xtest)\n",
    "print('Train Score:',adaBoost.score(Xtrain, ytrain))\n",
    "print('Test Score:',adaBoost.score(Xtest, ytest))"
   ]
  },
  {
   "cell_type": "code",
   "execution_count": 38,
   "metadata": {},
   "outputs": [
    {
     "name": "stdout",
     "output_type": "stream",
     "text": [
      "Confusion Matrix:\n"
     ]
    },
    {
     "data": {
      "image/png": "[encoded data removed]",
      "text/plain": [
       "<Figure size 504x360 with 2 Axes>"
      ]
     },
     "metadata": {
      "needs_background": "light"
     },
     "output_type": "display_data"
    }
   ],
   "source": [
    "print('Confusion Matrix:')\n",
    "\n",
    "cm = confusion_matrix(ytest, ypredict, labels = [0,1])\n",
    "\n",
    "df_cm = pd.DataFrame(cm, index = [i for i in ['No','Yes']],\n",
    "                    columns = [i for i in ['No', 'Yes']])\n",
    "plt.figure(figsize=(7,5))\n",
    "sns.heatmap(df_cm, annot=True, fmt='g');"
   ]
  },
  {
   "cell_type": "code",
   "execution_count": 39,
   "metadata": {},
   "outputs": [
    {
     "data": {
      "image/png": "[encoded data removed]",
      "text/plain": [
       "<Figure size 432x288 with 1 Axes>"
      ]
     },
     "metadata": {
      "needs_background": "light"
     },
     "output_type": "display_data"
    }
   ],
   "source": [
    "prob = adaBoost.predict_log_proba(Xtest)[:,1]\n",
    "\n",
    "fpr, tpr, threshold = roc_curve(ytest, prob)\n",
    "plt.plot([0,1],[0,1],linestyle='--')\n",
    "plt.plot(fpr, tpr, label='ROC')\n",
    "_=plt.xlabel('False Positive Rate')\n",
    "_=plt.ylabel('True Positive Rate')\n",
    "_=plt.title('ROC Curve')\n",
    "_=plt.xlim([-0.02,1])\n",
    "_=plt.legend(loc='lower right')"
   ]
  },
  {
   "cell_type": "code",
   "execution_count": 40,
   "metadata": {},
   "outputs": [
    {
     "name": "stdout",
     "output_type": "stream",
     "text": [
      "AUC: 0.9416511273097135\n"
     ]
    }
   ],
   "source": [
    "adaBoost_score = roc_auc_score(ytest, prob)\n",
    "print('AUC:', roc_auc_score(ytest, prob))"
   ]
  },
  {
   "cell_type": "code",
   "execution_count": 41,
   "metadata": {},
   "outputs": [
    {
     "name": "stdout",
     "output_type": "stream",
     "text": [
      "Cross Validation Accuracy of DT with Gini Index: 0.8618\n"
     ]
    }
   ],
   "source": [
    "# Again, I feel like we need a cross-validation check.\n",
    "\n",
    "scores = cross_val_score(adaBoost, Xtest, ytest, cv=10, scoring='accuracy')\n",
    "print('Cross Validation Accuracy of adaBoost: {:.4f}'.format(scores.mean()))\n",
    "\n",
    "# This time, Cross validation accuracy is same as test accuracy"
   ]
  },
  {
   "cell_type": "code",
   "execution_count": 42,
   "metadata": {},
   "outputs": [
    {
     "name": "stdout",
     "output_type": "stream",
     "text": [
      "Train Score: 0.8936376881981545\n",
      "Test Score: 0.8675400291120815\n"
     ]
    }
   ],
   "source": [
    "#GradientBoost\n",
    "gradientBoostingC = GradientBoostingClassifier(learning_rate = 0.1,\n",
    "                                               n_estimators = 25,\n",
    "                                               random_state = 3)\n",
    "gradientBoostingC = gradientBoostingC.fit(Xtrain, ytrain)\n",
    "\n",
    "ypredict = gradientBoostingC.predict(Xtest)\n",
    "print('Train Score:', gradientBoostingC.score(Xtrain, ytrain))\n",
    "print('Test Score:', gradientBoostingC.score(Xtest, ytest))"
   ]
  },
  {
   "cell_type": "code",
   "execution_count": 43,
   "metadata": {},
   "outputs": [
    {
     "data": {
      "image/png": "[encoded data removed]",
      "text/plain": [
       "<Figure size 504x360 with 2 Axes>"
      ]
     },
     "metadata": {
      "needs_background": "light"
     },
     "output_type": "display_data"
    }
   ],
   "source": [
    "cm = confusion_matrix(ytest, ypredict, labels=[0,1])\n",
    "df_cm = pd.DataFrame(cm, index = [i for i in ['No','Yes']],\n",
    "                    columns = [i for i in ['No','Yes']])\n",
    "plt.figure(figsize=(7,5))\n",
    "sns.heatmap(df_cm, annot = True, fmt = 'g');"
   ]
  },
  {
   "cell_type": "code",
   "execution_count": 44,
   "metadata": {},
   "outputs": [
    {
     "name": "stdout",
     "output_type": "stream",
     "text": [
      "              precision    recall  f1-score   support\n",
      "\n",
      "           0       0.89      0.84      0.86       340\n",
      "           1       0.85      0.90      0.87       347\n",
      "\n",
      "    accuracy                           0.87       687\n",
      "   macro avg       0.87      0.87      0.87       687\n",
      "weighted avg       0.87      0.87      0.87       687\n",
      "\n"
     ]
    }
   ],
   "source": [
    "print(classification_report(ytest, ypredict))\n"
   ]
  },
  {
   "cell_type": "code",
   "execution_count": 45,
   "metadata": {},
   "outputs": [
    {
     "data": {
      "image/png": "[encoded data removed]",
      "text/plain": [
       "<Figure size 432x288 with 1 Axes>"
      ]
     },
     "metadata": {
      "needs_background": "light"
     },
     "output_type": "display_data"
    }
   ],
   "source": [
    "prob = gradientBoostingC.predict_proba(Xtest)[:,1]\n",
    "\n",
    "fpr, tpr, threshold = roc_curve(ytest,prob)\n",
    "plt.plot([0,1],[0,1],linestyle='--')\n",
    "plt.plot(fpr, tpr, label='ROC')\n",
    "_=plt.xlabel('False Positive Rate')\n",
    "_=plt.ylabel('True Positive Rate')\n",
    "_=plt.title('ROC Curve')\n",
    "_=plt.xlim([-0.02,1])\n",
    "_=plt.legend(loc='lower right')"
   ]
  },
  {
   "cell_type": "code",
   "execution_count": 46,
   "metadata": {},
   "outputs": [
    {
     "name": "stdout",
     "output_type": "stream",
     "text": [
      "AUC: 0.9459569418545517\n"
     ]
    }
   ],
   "source": [
    "gradientBoost_score = roc_auc_score(ytest, prob)\n",
    "print('AUC:', roc_auc_score(ytest, prob))"
   ]
  },
  {
   "cell_type": "code",
   "execution_count": 47,
   "metadata": {},
   "outputs": [
    {
     "name": "stdout",
     "output_type": "stream",
     "text": [
      "Train score: 0.8902379796017484\n",
      "Test Score: 0.858806404657933\n"
     ]
    }
   ],
   "source": [
    "#Ensemble Random Forest Classifier\n",
    "\n",
    "RFC = RandomForestClassifier(n_estimators=50, \n",
    "                             random_state=4, \n",
    "                             max_features='log2',\n",
    "                             max_depth=5)\n",
    "RFC = RFC.fit(Xtrain, ytrain)\n",
    "\n",
    "ypredict = RFC.predict(Xtest)\n",
    "\n",
    "print('Train score:', RFC.score(Xtrain, ytrain))\n",
    "print('Test Score:', RFC.score(Xtest, ytest))"
   ]
  },
  {
   "cell_type": "code",
   "execution_count": 48,
   "metadata": {},
   "outputs": [
    {
     "data": {
      "image/png": "[encoded data removed]",
      "text/plain": [
       "<Figure size 504x360 with 2 Axes>"
      ]
     },
     "metadata": {
      "needs_background": "light"
     },
     "output_type": "display_data"
    }
   ],
   "source": [
    "cm = confusion_matrix(ytest, ypredict, labels=[0,1])\n",
    "df_cm = pd.DataFrame(cm, index=[i for i in ['No','Yes']],\n",
    "                    columns = [i for i in ['No', 'Yes']])\n",
    "plt.figure(figsize=(7,5))\n",
    "sns.heatmap(df_cm, annot = True, fmt = 'g');"
   ]
  },
  {
   "cell_type": "code",
   "execution_count": 49,
   "metadata": {},
   "outputs": [
    {
     "name": "stdout",
     "output_type": "stream",
     "text": [
      "              precision    recall  f1-score   support\n",
      "\n",
      "           0       0.90      0.81      0.85       340\n",
      "           1       0.83      0.91      0.87       347\n",
      "\n",
      "    accuracy                           0.86       687\n",
      "   macro avg       0.86      0.86      0.86       687\n",
      "weighted avg       0.86      0.86      0.86       687\n",
      "\n"
     ]
    }
   ],
   "source": [
    "print(classification_report(ytest, ypredict))\n"
   ]
  },
  {
   "cell_type": "code",
   "execution_count": 50,
   "metadata": {},
   "outputs": [
    {
     "data": {
      "image/png": "[encoded data removed]",
      "text/plain": [
       "<Figure size 432x288 with 1 Axes>"
      ]
     },
     "metadata": {
      "needs_background": "light"
     },
     "output_type": "display_data"
    }
   ],
   "source": [
    "prob = RFC.predict_proba(Xtest)[:,1]\n",
    "\n",
    "fpr, tpr, threshold = roc_curve(ytest, prob)\n",
    "\n",
    "plt.plot([0,1],[0,1], linestyle ='--')\n",
    "\n",
    "plt.plot(fpr, tpr, label='ROC')\n",
    "_=plt.xlabel('False Positive Rate')\n",
    "_=plt.ylabel('True Positive Rate')\n",
    "_=plt.xlim([-0.02,1])\n",
    "_=plt.legend(loc='lower right')"
   ]
  },
  {
   "cell_type": "code",
   "execution_count": 51,
   "metadata": {},
   "outputs": [
    {
     "name": "stdout",
     "output_type": "stream",
     "text": [
      "AUC: 0.9331496863875234\n"
     ]
    }
   ],
   "source": [
    "rfc_score = roc_auc_score(ytest, prob)\n",
    "print('AUC:', roc_auc_score(ytest, prob))"
   ]
  },
  {
   "cell_type": "code",
   "execution_count": 52,
   "metadata": {},
   "outputs": [
    {
     "name": "stdout",
     "output_type": "stream",
     "text": [
      "Fitting 5 folds for each of 25 candidates, totalling 125 fits\n",
      "[CV 1/5] END ........C=0.1, gamma=1, kernel=rbf;, score=0.505 total time=   0.8s\n",
      "[CV 2/5] END ........C=0.1, gamma=1, kernel=rbf;, score=0.507 total time=   0.7s\n",
      "[CV 3/5] END ........C=0.1, gamma=1, kernel=rbf;, score=0.507 total time=   0.7s\n",
      "[CV 4/5] END ........C=0.1, gamma=1, kernel=rbf;, score=0.507 total time=   0.7s\n",
      "[CV 5/5] END ........C=0.1, gamma=1, kernel=rbf;, score=0.509 total time=   0.7s\n",
      "[CV 1/5] END ......C=0.1, gamma=0.1, kernel=rbf;, score=0.869 total time=   0.6s\n",
      "[CV 2/5] END ......C=0.1, gamma=0.1, kernel=rbf;, score=0.862 total time=   0.6s\n",
      "[CV 3/5] END ......C=0.1, gamma=0.1, kernel=rbf;, score=0.828 total time=   0.6s\n",
      "[CV 4/5] END ......C=0.1, gamma=0.1, kernel=rbf;, score=0.857 total time=   0.6s\n",
      "[CV 5/5] END ......C=0.1, gamma=0.1, kernel=rbf;, score=0.827 total time=   0.6s\n",
      "[CV 1/5] END .....C=0.1, gamma=0.01, kernel=rbf;, score=0.847 total time=   0.5s\n",
      "[CV 2/5] END .....C=0.1, gamma=0.01, kernel=rbf;, score=0.794 total time=   0.5s\n",
      "[CV 3/5] END .....C=0.1, gamma=0.01, kernel=rbf;, score=0.774 total time=   0.5s\n",
      "[CV 4/5] END .....C=0.1, gamma=0.01, kernel=rbf;, score=0.808 total time=   0.5s\n",
      "[CV 5/5] END .....C=0.1, gamma=0.01, kernel=rbf;, score=0.793 total time=   0.5s\n",
      "[CV 1/5] END ....C=0.1, gamma=0.001, kernel=rbf;, score=0.740 total time=   0.7s\n",
      "[CV 2/5] END ....C=0.1, gamma=0.001, kernel=rbf;, score=0.665 total time=   0.7s\n",
      "[CV 3/5] END ....C=0.1, gamma=0.001, kernel=rbf;, score=0.687 total time=   0.7s\n",
      "[CV 4/5] END ....C=0.1, gamma=0.001, kernel=rbf;, score=0.675 total time=   0.7s\n",
      "[CV 5/5] END ....C=0.1, gamma=0.001, kernel=rbf;, score=0.689 total time=   0.7s\n",
      "[CV 1/5] END ...C=0.1, gamma=0.0001, kernel=rbf;, score=0.500 total time=   0.7s\n",
      "[CV 2/5] END ...C=0.1, gamma=0.0001, kernel=rbf;, score=0.502 total time=   0.7s\n",
      "[CV 3/5] END ...C=0.1, gamma=0.0001, kernel=rbf;, score=0.502 total time=   0.7s\n",
      "[CV 4/5] END ...C=0.1, gamma=0.0001, kernel=rbf;, score=0.502 total time=   0.7s\n",
      "[CV 5/5] END ...C=0.1, gamma=0.0001, kernel=rbf;, score=0.501 total time=   0.7s\n",
      "[CV 1/5] END ..........C=1, gamma=1, kernel=rbf;, score=0.879 total time=   0.8s\n",
      "[CV 2/5] END ..........C=1, gamma=1, kernel=rbf;, score=0.854 total time=   0.8s\n",
      "[CV 3/5] END ..........C=1, gamma=1, kernel=rbf;, score=0.840 total time=   0.8s\n",
      "[CV 4/5] END ..........C=1, gamma=1, kernel=rbf;, score=0.864 total time=   0.7s\n",
      "[CV 5/5] END ..........C=1, gamma=1, kernel=rbf;, score=0.854 total time=   0.8s\n",
      "[CV 1/5] END ........C=1, gamma=0.1, kernel=rbf;, score=0.942 total time=   0.5s\n",
      "[CV 2/5] END ........C=1, gamma=0.1, kernel=rbf;, score=0.932 total time=   0.4s\n",
      "[CV 3/5] END ........C=1, gamma=0.1, kernel=rbf;, score=0.942 total time=   0.4s\n",
      "[CV 4/5] END ........C=1, gamma=0.1, kernel=rbf;, score=0.930 total time=   0.4s\n",
      "[CV 5/5] END ........C=1, gamma=0.1, kernel=rbf;, score=0.925 total time=   0.4s\n",
      "[CV 1/5] END .......C=1, gamma=0.01, kernel=rbf;, score=0.852 total time=   0.4s\n",
      "[CV 2/5] END .......C=1, gamma=0.01, kernel=rbf;, score=0.867 total time=   0.4s\n",
      "[CV 3/5] END .......C=1, gamma=0.01, kernel=rbf;, score=0.820 total time=   0.4s\n",
      "[CV 4/5] END .......C=1, gamma=0.01, kernel=rbf;, score=0.847 total time=   0.4s\n",
      "[CV 5/5] END .......C=1, gamma=0.01, kernel=rbf;, score=0.837 total time=   0.4s\n",
      "[CV 1/5] END ......C=1, gamma=0.001, kernel=rbf;, score=0.823 total time=   0.5s\n",
      "[CV 2/5] END ......C=1, gamma=0.001, kernel=rbf;, score=0.767 total time=   0.5s\n",
      "[CV 3/5] END ......C=1, gamma=0.001, kernel=rbf;, score=0.762 total time=   0.5s\n",
      "[CV 4/5] END ......C=1, gamma=0.001, kernel=rbf;, score=0.779 total time=   0.5s\n",
      "[CV 5/5] END ......C=1, gamma=0.001, kernel=rbf;, score=0.781 total time=   0.5s\n",
      "[CV 1/5] END .....C=1, gamma=0.0001, kernel=rbf;, score=0.731 total time=   0.7s\n",
      "[CV 2/5] END .....C=1, gamma=0.0001, kernel=rbf;, score=0.660 total time=   0.7s\n",
      "[CV 3/5] END .....C=1, gamma=0.0001, kernel=rbf;, score=0.680 total time=   0.7s\n",
      "[CV 4/5] END .....C=1, gamma=0.0001, kernel=rbf;, score=0.675 total time=   0.7s\n",
      "[CV 5/5] END .....C=1, gamma=0.0001, kernel=rbf;, score=0.689 total time=   0.7s\n",
      "[CV 1/5] END .........C=10, gamma=1, kernel=rbf;, score=0.893 total time=   0.7s\n",
      "[CV 2/5] END .........C=10, gamma=1, kernel=rbf;, score=0.871 total time=   0.8s\n",
      "[CV 3/5] END .........C=10, gamma=1, kernel=rbf;, score=0.850 total time=   0.8s\n",
      "[CV 4/5] END .........C=10, gamma=1, kernel=rbf;, score=0.871 total time=   0.8s\n",
      "[CV 5/5] END .........C=10, gamma=1, kernel=rbf;, score=0.869 total time=   0.8s\n",
      "[CV 1/5] END .......C=10, gamma=0.1, kernel=rbf;, score=0.951 total time=   0.4s\n",
      "[CV 2/5] END .......C=10, gamma=0.1, kernel=rbf;, score=0.964 total time=   0.4s\n",
      "[CV 3/5] END .......C=10, gamma=0.1, kernel=rbf;, score=0.954 total time=   0.4s\n",
      "[CV 4/5] END .......C=10, gamma=0.1, kernel=rbf;, score=0.949 total time=   0.4s\n",
      "[CV 5/5] END .......C=10, gamma=0.1, kernel=rbf;, score=0.939 total time=   0.4s\n",
      "[CV 1/5] END ......C=10, gamma=0.01, kernel=rbf;, score=0.908 total time=   0.3s\n",
      "[CV 2/5] END ......C=10, gamma=0.01, kernel=rbf;, score=0.900 total time=   0.4s\n",
      "[CV 3/5] END ......C=10, gamma=0.01, kernel=rbf;, score=0.852 total time=   0.3s\n",
      "[CV 4/5] END ......C=10, gamma=0.01, kernel=rbf;, score=0.896 total time=   0.3s\n",
      "[CV 5/5] END ......C=10, gamma=0.01, kernel=rbf;, score=0.873 total time=   0.3s\n",
      "[CV 1/5] END .....C=10, gamma=0.001, kernel=rbf;, score=0.850 total time=   0.4s\n",
      "[CV 2/5] END .....C=10, gamma=0.001, kernel=rbf;, score=0.830 total time=   0.4s\n",
      "[CV 3/5] END .....C=10, gamma=0.001, kernel=rbf;, score=0.796 total time=   0.4s\n",
      "[CV 4/5] END .....C=10, gamma=0.001, kernel=rbf;, score=0.818 total time=   0.4s\n",
      "[CV 5/5] END .....C=10, gamma=0.001, kernel=rbf;, score=0.825 total time=   0.4s\n",
      "[CV 1/5] END ....C=10, gamma=0.0001, kernel=rbf;, score=0.801 total time=   0.6s\n",
      "[CV 2/5] END ....C=10, gamma=0.0001, kernel=rbf;, score=0.750 total time=   0.5s\n",
      "[CV 3/5] END ....C=10, gamma=0.0001, kernel=rbf;, score=0.757 total time=   0.5s\n",
      "[CV 4/5] END ....C=10, gamma=0.0001, kernel=rbf;, score=0.789 total time=   0.5s\n",
      "[CV 5/5] END ....C=10, gamma=0.0001, kernel=rbf;, score=0.769 total time=   0.5s\n",
      "[CV 1/5] END ........C=100, gamma=1, kernel=rbf;, score=0.893 total time=   0.7s\n",
      "[CV 2/5] END ........C=100, gamma=1, kernel=rbf;, score=0.871 total time=   0.8s\n",
      "[CV 3/5] END ........C=100, gamma=1, kernel=rbf;, score=0.850 total time=   0.8s\n",
      "[CV 4/5] END ........C=100, gamma=1, kernel=rbf;, score=0.871 total time=   0.8s\n",
      "[CV 5/5] END ........C=100, gamma=1, kernel=rbf;, score=0.869 total time=   0.8s\n",
      "[CV 1/5] END ......C=100, gamma=0.1, kernel=rbf;, score=0.949 total time=   0.4s\n",
      "[CV 2/5] END ......C=100, gamma=0.1, kernel=rbf;, score=0.964 total time=   0.4s\n",
      "[CV 3/5] END ......C=100, gamma=0.1, kernel=rbf;, score=0.949 total time=   0.4s\n",
      "[CV 4/5] END ......C=100, gamma=0.1, kernel=rbf;, score=0.934 total time=   0.4s\n",
      "[CV 5/5] END ......C=100, gamma=0.1, kernel=rbf;, score=0.934 total time=   0.4s\n",
      "[CV 1/5] END .....C=100, gamma=0.01, kernel=rbf;, score=0.915 total time=   0.5s\n",
      "[CV 2/5] END .....C=100, gamma=0.01, kernel=rbf;, score=0.913 total time=   0.5s\n",
      "[CV 3/5] END .....C=100, gamma=0.01, kernel=rbf;, score=0.898 total time=   0.4s\n",
      "[CV 4/5] END .....C=100, gamma=0.01, kernel=rbf;, score=0.915 total time=   0.5s\n",
      "[CV 5/5] END .....C=100, gamma=0.01, kernel=rbf;, score=0.898 total time=   0.5s\n",
      "[CV 1/5] END ....C=100, gamma=0.001, kernel=rbf;, score=0.862 total time=   0.4s\n",
      "[CV 2/5] END ....C=100, gamma=0.001, kernel=rbf;, score=0.862 total time=   0.4s\n",
      "[CV 3/5] END ....C=100, gamma=0.001, kernel=rbf;, score=0.820 total time=   0.4s\n",
      "[CV 4/5] END ....C=100, gamma=0.001, kernel=rbf;, score=0.852 total time=   0.4s\n",
      "[CV 5/5] END ....C=100, gamma=0.001, kernel=rbf;, score=0.847 total time=   0.4s\n",
      "[CV 1/5] END ...C=100, gamma=0.0001, kernel=rbf;, score=0.823 total time=   0.5s\n",
      "[CV 2/5] END ...C=100, gamma=0.0001, kernel=rbf;, score=0.803 total time=   0.5s\n",
      "[CV 3/5] END ...C=100, gamma=0.0001, kernel=rbf;, score=0.774 total time=   0.5s\n",
      "[CV 4/5] END ...C=100, gamma=0.0001, kernel=rbf;, score=0.806 total time=   0.5s\n",
      "[CV 5/5] END ...C=100, gamma=0.0001, kernel=rbf;, score=0.779 total time=   0.4s\n",
      "[CV 1/5] END .......C=1000, gamma=1, kernel=rbf;, score=0.893 total time=   0.7s\n",
      "[CV 2/5] END .......C=1000, gamma=1, kernel=rbf;, score=0.871 total time=   0.8s\n",
      "[CV 3/5] END .......C=1000, gamma=1, kernel=rbf;, score=0.850 total time=   0.8s\n",
      "[CV 4/5] END .......C=1000, gamma=1, kernel=rbf;, score=0.871 total time=   0.8s\n",
      "[CV 5/5] END .......C=1000, gamma=1, kernel=rbf;, score=0.869 total time=   0.8s\n",
      "[CV 1/5] END .....C=1000, gamma=0.1, kernel=rbf;, score=0.949 total time=   0.4s\n",
      "[CV 2/5] END .....C=1000, gamma=0.1, kernel=rbf;, score=0.964 total time=   0.4s\n",
      "[CV 3/5] END .....C=1000, gamma=0.1, kernel=rbf;, score=0.949 total time=   0.4s\n",
      "[CV 4/5] END .....C=1000, gamma=0.1, kernel=rbf;, score=0.934 total time=   0.4s\n",
      "[CV 5/5] END .....C=1000, gamma=0.1, kernel=rbf;, score=0.934 total time=   0.4s\n",
      "[CV 1/5] END ....C=1000, gamma=0.01, kernel=rbf;, score=0.927 total time=   1.0s\n",
      "[CV 2/5] END ....C=1000, gamma=0.01, kernel=rbf;, score=0.930 total time=   1.0s\n",
      "[CV 3/5] END ....C=1000, gamma=0.01, kernel=rbf;, score=0.913 total time=   0.9s\n",
      "[CV 4/5] END ....C=1000, gamma=0.01, kernel=rbf;, score=0.922 total time=   1.0s\n",
      "[CV 5/5] END ....C=1000, gamma=0.01, kernel=rbf;, score=0.900 total time=   1.0s\n",
      "[CV 1/5] END ...C=1000, gamma=0.001, kernel=rbf;, score=0.883 total time=   0.7s\n",
      "[CV 2/5] END ...C=1000, gamma=0.001, kernel=rbf;, score=0.881 total time=   0.7s\n",
      "[CV 3/5] END ...C=1000, gamma=0.001, kernel=rbf;, score=0.840 total time=   0.6s\n",
      "[CV 4/5] END ...C=1000, gamma=0.001, kernel=rbf;, score=0.864 total time=   0.6s\n",
      "[CV 5/5] END ...C=1000, gamma=0.001, kernel=rbf;, score=0.873 total time=   0.6s\n",
      "[CV 1/5] END ..C=1000, gamma=0.0001, kernel=rbf;, score=0.857 total time=   0.5s\n",
      "[CV 2/5] END ..C=1000, gamma=0.0001, kernel=rbf;, score=0.830 total time=   0.5s\n",
      "[CV 3/5] END ..C=1000, gamma=0.0001, kernel=rbf;, score=0.801 total time=   0.5s\n",
      "[CV 4/5] END ..C=1000, gamma=0.0001, kernel=rbf;, score=0.818 total time=   0.5s\n",
      "[CV 5/5] END ..C=1000, gamma=0.0001, kernel=rbf;, score=0.825 total time=   0.4s\n"
     ]
    }
   ],
   "source": [
    "# SVM Classifier with RBF Kernel and GridSearchCV to find best parameters\n",
    "\n",
    "param_grid = {'C': [0.1, 1, 10, 100, 1000],\n",
    "\t\t\t  'gamma': [1, 0.1, 0.01, 0.001, 0.0001],\n",
    "\t\t\t  'kernel': ['rbf']}\n",
    "grid = GridSearchCV(SVC(probability=True), param_grid, refit=True, verbose=3)\n",
    "grid.fit(Xtrain, ytrain)\n",
    "\n",
    "#print(grid.best_params_)\n",
    "#print(grid.best_estimator_)\n",
    "grid_predictions = grid.predict(Xtest)\n",
    "\n"
   ]
  },
  {
   "cell_type": "code",
   "execution_count": 53,
   "metadata": {},
   "outputs": [
    {
     "name": "stdout",
     "output_type": "stream",
     "text": [
      "Train Score: 0.9975716367168529\n",
      "Test Score: 0.9810771470160117\n"
     ]
    },
    {
     "data": {
      "image/png": "[encoded data removed]",
      "text/plain": [
       "<Figure size 504x360 with 2 Axes>"
      ]
     },
     "metadata": {
      "needs_background": "light"
     },
     "output_type": "display_data"
    }
   ],
   "source": [
    "print('Train Score:', grid.score(Xtrain, ytrain))\n",
    "print('Test Score:', grid.score(Xtest, ytest))\n",
    "\n",
    "cm = confusion_matrix(ytest, grid_predictions, labels=[0,1])\n",
    "df_cm = pd.DataFrame(cm, index=[i for i in ['No','Yes']],\n",
    "\t\t\t\t\tcolumns = [i for i in ['No', 'Yes']])\n",
    "plt.figure(figsize=(7,5))\n",
    "sns.heatmap(df_cm, annot = True, fmt = 'g');"
   ]
  },
  {
   "cell_type": "code",
   "execution_count": 54,
   "metadata": {},
   "outputs": [
    {
     "name": "stdout",
     "output_type": "stream",
     "text": [
      "              precision    recall  f1-score   support\n",
      "\n",
      "           0       1.00      0.96      0.98       340\n",
      "           1       0.97      1.00      0.98       347\n",
      "\n",
      "    accuracy                           0.98       687\n",
      "   macro avg       0.98      0.98      0.98       687\n",
      "weighted avg       0.98      0.98      0.98       687\n",
      "\n",
      "AUC: 0.9958806577385997\n"
     ]
    },
    {
     "data": {
      "image/png": "[encoded data removed]",
      "text/plain": [
       "<Figure size 432x288 with 1 Axes>"
      ]
     },
     "metadata": {
      "needs_background": "light"
     },
     "output_type": "display_data"
    }
   ],
   "source": [
    "print(classification_report(ytest, grid_predictions))\n",
    "\n",
    "prob = grid.predict_proba(Xtest)[:,1]\n",
    "\n",
    "fpr, tpr, threshold = roc_curve(ytest, prob)\n",
    "\n",
    "plt.plot([0,1],[0,1], linestyle ='--')\n",
    "\n",
    "plt.plot(fpr, tpr, label='ROC')\n",
    "\n",
    "_=plt.xlabel('False Positive Rate')\n",
    "\n",
    "_=plt.ylabel('True Positive Rate')\n",
    "\n",
    "_=plt.xlim([-0.02,1])\n",
    "\n",
    "_=plt.legend(loc='lower right')\n",
    "\n",
    "svm_score = roc_auc_score(ytest, prob)\n",
    "\n",
    "print('AUC:', roc_auc_score(ytest, prob))"
   ]
  },
  {
   "cell_type": "code",
   "execution_count": null,
   "metadata": {},
   "outputs": [],
   "source": [
    "# Conclusion\n",
    "\n",
    "# The data is originally contains categorical and numerical data. I have converted categorical data into numerical data using LabelEncoder. \n",
    "# The data is imbalanced. I have used SMOTE to balance the data.\n",
    "# I used normalization on numerical data and standardization on categorical data.\n",
    "\n",
    "# These preprocessing steps are very important to get good results. \n",
    "# Otherwise, the model will not be able to predict the outcome correctly.\n",
    "# After preparing the data, the rest is just applying different models and comparing the results.\n",
    "# The models are imported from sklearn library.\n",
    "\n",
    "\n",
    "# ROC curve is used to evaluate the performance of the model. AUC is used to compare the performance of different models.\n",
    "# When I suspected overfitting I used cross validation to check the accuracy of the model.\n",
    "# Confusion matrix and classification report are used to get better insights about the model.\n",
    "# The metric used to evaluate the performance of the models are balanced accuracy.\n",
    "\n",
    "\n",
    "\n",
    "# I have used 6 different models to predict the outcome.\n",
    "# The application of some models are very similar. However, SVM is a little bit different.\n",
    "# To be able to use SVM, I had to find the best parameters using GridSearchCV.\n",
    "# The best parameters are C=1000, gamma=0.0001, and kernel='rbf'.\n",
    "# However SVM overfitted our data and the accuracy was unrealistic. \n",
    "\n",
    "# We can see that the best model is KNN with 0.85 score, the rest of the models are a bit underperformed or overfit the data.\n",
    "# I picked KNN to predict the outcome of the test data in best_model.ipynb file.\n",
    "# The best model is saved in knn10.sav file and the predictions saved in predictions.csv file.\n",
    "\n",
    "# In the test dataset we do not have a Y axis which is label of the data.\n",
    "# So we can not evaluate the performance of the model. However, based on the train,test performance of our KNN model we can assume we have 85% accuracy.\n",
    "\n",
    "\n"
   ]
  }
 ],
 "metadata": {
  "kernelspec": {
   "display_name": "Python 3.9.4 64-bit ('3.9.4')",
   "language": "python",
   "name": "python3"
  },
  "language_info": {
   "codemirror_mode": {
    "name": "ipython",
    "version": 3
   },
   "file_extension": ".py",
   "mimetype": "text/x-python",
   "name": "python",
   "nbconvert_exporter": "python",
   "pygments_lexer": "ipython3",
   "version": "3.9.4"
  },
  "orig_nbformat": 4,
  "vscode": {
   "interpreter": {
    "hash": "f5cf1bc5b964a3daef0387d43ec97798711d1c59abb32342a98b2585190fdf79"
   }
  }
 },
 "nbformat": 4,
 "nbformat_minor": 2
}
